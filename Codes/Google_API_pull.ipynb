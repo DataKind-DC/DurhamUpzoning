{
 "cells": [
  {
   "cell_type": "code",
   "execution_count": null,
   "metadata": {},
   "outputs": [],
   "source": [
    "import os\n",
    "import io\n",
    "from googleapiclient.http import MediaIoBaseDownload\n",
    "from Google import Create_Service\n",
    "\n",
    "CLIENT_SECRET_FILE = 'client_secret_GoogleCloudDemo.json'\n",
    "API_NAME = 'drive'\n",
    "API_VERSION = 'v3'\n",
    "SCOPES = ['https://www.googleapis.com/auth/drive']\n",
    "\n",
    "service = Create_Service(CLIENT_SECRET_FILE,API_NAME,API_VERSION,SCOPES)\n",
    "\n",
    "q = \"'1YRE-qSlUtKpwq3yGp0rqUcYtRZxIF64s' in parents and mimeType='application/vnd.google-apps.folder'\"\n",
    "\n",
    "response1 = service\\\n",
    ".files()\\\n",
    ".list(q=q,\\\n",
    "      spaces='drive',\\\n",
    "      corpora='user')\\\n",
    ".execute()"
   ]
  },
  {
   "cell_type": "code",
   "execution_count": null,
   "metadata": {},
   "outputs": [],
   "source": [
    "id_list=[]\n",
    "name_list=[]\n",
    "for file in response1.get('files',[]):\n",
    "    q=\"name contains 'co_newres' and '%s' in parents and \\\n",
    "    (mimeType='application/vnd.ms-excel' or \\\n",
    "    mimeType='application/vnd.openxmlformats-officedocument.spreadsheetml.sheet')\" % (file['id'])\n",
    "    response = service\\\n",
    "    .files()\\\n",
    "    .list(q=q,\\\n",
    "          spaces='drive',\\\n",
    "          corpora='user')\\\n",
    "    .execute()\n",
    "    \n",
    "    for element in response['files']:\n",
    "        id_list.append(element['id'])\n",
    "        name_list.append(element['name'])\n"
   ]
  },
  {
   "cell_type": "code",
   "execution_count": null,
   "metadata": {},
   "outputs": [],
   "source": [
    "for file_id, file_name in zip(id_list,name_list):\n",
    "    request = service.files().get_media(fileId=file_id)\n",
    "#     request = service.files().export_media(fileId=file_id,mimeType='text/csv') does not work since the files were not\n",
    "#     originally google workbooks\n",
    "    fh = io.BytesIO()\n",
    "    downloader = MediaIoBaseDownload(fd=fh,request=request)\n",
    "    \n",
    "    done = False\n",
    "    while not done:\n",
    "        status, done = downloader.next_chunk()\n",
    "        print('Download Progress {0}'.format(status.progress()*100))\n",
    "    fh.seek(0)\n",
    "    with open(os.path.join(os.getcwd(),file_name),'wb') as f:\n",
    "        f.write(fh.read())\n",
    "        f.close()"
   ]
  }
 ],
 "metadata": {
  "kernelspec": {
   "display_name": "Python 3",
   "language": "python",
   "name": "python3"
  },
  "language_info": {
   "codemirror_mode": {
    "name": "ipython",
    "version": 3
   },
   "file_extension": ".py",
   "mimetype": "text/x-python",
   "name": "python",
   "nbconvert_exporter": "python",
   "pygments_lexer": "ipython3",
   "version": "3.6.1"
  }
 },
 "nbformat": 4,
 "nbformat_minor": 2
}
