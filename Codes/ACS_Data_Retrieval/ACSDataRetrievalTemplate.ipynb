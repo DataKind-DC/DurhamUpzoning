{
 "cells": [
  {
   "cell_type": "markdown",
   "metadata": {},
   "source": [
    "## Starter Template For Retrieving ACS Census Survey Data"
   ]
  },
  {
   "cell_type": "markdown",
   "metadata": {},
   "source": [
    "#### Note: install census if you haven't already"
   ]
  },
  {
   "cell_type": "code",
   "execution_count": 2,
   "metadata": {
    "execution": {
     "iopub.execute_input": "2021-02-25T04:16:35.243138Z",
     "iopub.status.busy": "2021-02-25T04:16:35.242146Z",
     "iopub.status.idle": "2021-02-25T04:16:43.659546Z",
     "shell.execute_reply": "2021-02-25T04:16:43.659546Z",
     "shell.execute_reply.started": "2021-02-25T04:16:35.243138Z"
    }
   },
   "outputs": [],
   "source": [
    "#Importing the Relevant Modules\n",
    "import pandas as pd\n",
    "from census import Census\n",
    "import numpy as np\n",
    "from IPython.display import display\n",
    "import seaborn as sns\n",
    "import geopandas as gp"
   ]
  },
  {
   "cell_type": "markdown",
   "metadata": {},
   "source": [
    "**Ignore if no import errors arise**\n",
    "-----\n",
    "Please note that installing geopandas may require additional steps.\n",
    "\n",
    "In my case I had to install the distributions of Fiona and GDAL (both neede for the above packages) through this link: https://www.lfd.uci.edu/~gohlke/pythonlibs/ (specifically for Windows). See the first answer in this stackoverflow question for more on this: https://stackoverflow.com/questions/50876702/cant-install-fiona-on-windows\n",
    "\n",
    "Lastly, if you get this error when importing geopandas: \"OSError: Could not find lib geos_c.dll or load any of its variants,\" one way I solved this was by downloading the file instead. Once downloaded, I placed the file into the location where the file was stated to be missing from (ie. \"C:\\Users\\Daniel\\Anaconda3\\Library\\bin\\geos_c.dll\") < - went into the bin folder indicated in the path and dropped the file there.\n",
    "\n",
    "- https://www.dll-files.com/geos_c.dll.html"
   ]
  },
  {
   "cell_type": "markdown",
   "metadata": {},
   "source": [
    "-------------------------------------"
   ]
  },
  {
   "cell_type": "markdown",
   "metadata": {},
   "source": [
    "### General Overview\n",
    "In order to retrieve census data for the ACS, my general steps were:\n",
    "1. Identify the variables of interest by referring to this page: https://www.census.gov/programs-surveys/acs/guidance/which-data-tool/table-ids-explained.html\n",
    "    - In particular, I looked at element 1, 2, and 3 tables\n",
    "    - **Element 1** For this project, I chose to focus on the B table type of which contains the \"Most detailed estimates on all topics for all geographies\"\n",
    "    - **Element 2** I chose to focus on subject numbers 02 (Race),03 (Hispanic or Latino Origin),15 (Educational Attainment),19 (Income). **Please feel free** to add more \n",
    "    - **Element 3** I went with 001 as I wanted to look at general values. Any other 2 or 3 digit number IDs contained a more granular look at the subject of interest. As an example for the race subject number the 009 gave data on `Universe:  Black or African American alone or in combination with one or more other races` As such, 001 was chosen.\n",
    " 2. Once I had the variables of interest down, then I went ahead and retrieved the data of interest via an API call using the census python package (see here for more info: https://pypi.org/project/census/).\n",
    " 3. I then  reshaped the data to be in a long format for ease of use when analyzing the data.\n",
    " 4. Lastly, I added a type (ie. Race) and subtype (ie. White) columns for readability"
   ]
  },
  {
   "cell_type": "markdown",
   "metadata": {},
   "source": [
    "### Loading in table shells : \"They contain the line number, description of the data, and table ID\" - Census\n",
    "\n",
    "This is how we'll be able to track down the variables of interest"
   ]
  },
  {
   "cell_type": "code",
   "execution_count": 2,
   "metadata": {
    "execution": {
     "iopub.execute_input": "2021-02-17T02:34:17.048706Z",
     "iopub.status.busy": "2021-02-17T02:34:17.047709Z",
     "iopub.status.idle": "2021-02-17T02:34:30.728597Z",
     "shell.execute_reply": "2021-02-17T02:34:30.723626Z",
     "shell.execute_reply.started": "2021-02-17T02:34:17.048706Z"
    }
   },
   "outputs": [],
   "source": [
    "shell = pd.read_excel(\"https://www2.census.gov/programs-surveys/acs/summary_file/2019/documentation/user_tools/ACS2019_Table_Shells.xlsx\")"
   ]
  },
  {
   "cell_type": "markdown",
   "metadata": {},
   "source": [
    "## Table ID B02001: RACE"
   ]
  },
  {
   "cell_type": "code",
   "execution_count": 3,
   "metadata": {
    "execution": {
     "iopub.execute_input": "2021-02-17T02:34:30.734648Z",
     "iopub.status.busy": "2021-02-17T02:34:30.734648Z",
     "iopub.status.idle": "2021-02-17T02:34:30.877924Z",
     "shell.execute_reply": "2021-02-17T02:34:30.860044Z",
     "shell.execute_reply.started": "2021-02-17T02:34:30.734648Z"
    }
   },
   "outputs": [
    {
     "data": {
      "text/html": [
       "<div>\n",
       "<style scoped>\n",
       "    .dataframe tbody tr th:only-of-type {\n",
       "        vertical-align: middle;\n",
       "    }\n",
       "\n",
       "    .dataframe tbody tr th {\n",
       "        vertical-align: top;\n",
       "    }\n",
       "\n",
       "    .dataframe thead th {\n",
       "        text-align: right;\n",
       "    }\n",
       "</style>\n",
       "<table border=\"1\" class=\"dataframe\">\n",
       "  <thead>\n",
       "    <tr style=\"text-align: right;\">\n",
       "      <th></th>\n",
       "      <th>Table ID</th>\n",
       "      <th>Line</th>\n",
       "      <th>UniqueID</th>\n",
       "      <th>Stub</th>\n",
       "      <th>Data Release</th>\n",
       "    </tr>\n",
       "  </thead>\n",
       "  <tbody>\n",
       "    <tr>\n",
       "      <th>541</th>\n",
       "      <td>B02001</td>\n",
       "      <td>NaN</td>\n",
       "      <td>NaN</td>\n",
       "      <td>RACE</td>\n",
       "      <td>1,5</td>\n",
       "    </tr>\n",
       "    <tr>\n",
       "      <th>542</th>\n",
       "      <td>B02001</td>\n",
       "      <td>NaN</td>\n",
       "      <td>NaN</td>\n",
       "      <td>Universe:  Total population</td>\n",
       "      <td>NaN</td>\n",
       "    </tr>\n",
       "    <tr>\n",
       "      <th>543</th>\n",
       "      <td>B02001</td>\n",
       "      <td>1</td>\n",
       "      <td>B02001_001</td>\n",
       "      <td>Total:</td>\n",
       "      <td>NaN</td>\n",
       "    </tr>\n",
       "    <tr>\n",
       "      <th>544</th>\n",
       "      <td>B02001</td>\n",
       "      <td>2</td>\n",
       "      <td>B02001_002</td>\n",
       "      <td>White alone</td>\n",
       "      <td>NaN</td>\n",
       "    </tr>\n",
       "    <tr>\n",
       "      <th>545</th>\n",
       "      <td>B02001</td>\n",
       "      <td>3</td>\n",
       "      <td>B02001_003</td>\n",
       "      <td>Black or African American alone</td>\n",
       "      <td>NaN</td>\n",
       "    </tr>\n",
       "    <tr>\n",
       "      <th>546</th>\n",
       "      <td>B02001</td>\n",
       "      <td>4</td>\n",
       "      <td>B02001_004</td>\n",
       "      <td>American Indian and Alaska Native alone</td>\n",
       "      <td>NaN</td>\n",
       "    </tr>\n",
       "    <tr>\n",
       "      <th>547</th>\n",
       "      <td>B02001</td>\n",
       "      <td>5</td>\n",
       "      <td>B02001_005</td>\n",
       "      <td>Asian alone</td>\n",
       "      <td>NaN</td>\n",
       "    </tr>\n",
       "    <tr>\n",
       "      <th>548</th>\n",
       "      <td>B02001</td>\n",
       "      <td>6</td>\n",
       "      <td>B02001_006</td>\n",
       "      <td>Native Hawaiian and Other Pacific Islander alone</td>\n",
       "      <td>NaN</td>\n",
       "    </tr>\n",
       "    <tr>\n",
       "      <th>549</th>\n",
       "      <td>B02001</td>\n",
       "      <td>7</td>\n",
       "      <td>B02001_007</td>\n",
       "      <td>Some other race alone</td>\n",
       "      <td>NaN</td>\n",
       "    </tr>\n",
       "    <tr>\n",
       "      <th>550</th>\n",
       "      <td>B02001</td>\n",
       "      <td>8</td>\n",
       "      <td>B02001_008</td>\n",
       "      <td>Two or more races:</td>\n",
       "      <td>NaN</td>\n",
       "    </tr>\n",
       "    <tr>\n",
       "      <th>551</th>\n",
       "      <td>B02001</td>\n",
       "      <td>9</td>\n",
       "      <td>B02001_009</td>\n",
       "      <td>Two races including Some other race</td>\n",
       "      <td>NaN</td>\n",
       "    </tr>\n",
       "    <tr>\n",
       "      <th>552</th>\n",
       "      <td>B02001</td>\n",
       "      <td>10</td>\n",
       "      <td>B02001_010</td>\n",
       "      <td>Two races excluding Some other race, and three...</td>\n",
       "      <td>NaN</td>\n",
       "    </tr>\n",
       "  </tbody>\n",
       "</table>\n",
       "</div>"
      ],
      "text/plain": [
       "    Table ID Line    UniqueID  \\\n",
       "541   B02001  NaN         NaN   \n",
       "542   B02001  NaN         NaN   \n",
       "543   B02001    1  B02001_001   \n",
       "544   B02001    2  B02001_002   \n",
       "545   B02001    3  B02001_003   \n",
       "546   B02001    4  B02001_004   \n",
       "547   B02001    5  B02001_005   \n",
       "548   B02001    6  B02001_006   \n",
       "549   B02001    7  B02001_007   \n",
       "550   B02001    8  B02001_008   \n",
       "551   B02001    9  B02001_009   \n",
       "552   B02001   10  B02001_010   \n",
       "\n",
       "                                                  Stub Data Release  \n",
       "541                                               RACE          1,5  \n",
       "542                        Universe:  Total population          NaN  \n",
       "543                                             Total:          NaN  \n",
       "544                                        White alone          NaN  \n",
       "545                    Black or African American alone          NaN  \n",
       "546            American Indian and Alaska Native alone          NaN  \n",
       "547                                        Asian alone          NaN  \n",
       "548   Native Hawaiian and Other Pacific Islander alone          NaN  \n",
       "549                              Some other race alone          NaN  \n",
       "550                                 Two or more races:          NaN  \n",
       "551                Two races including Some other race          NaN  \n",
       "552  Two races excluding Some other race, and three...          NaN  "
      ]
     },
     "execution_count": 3,
     "metadata": {},
     "output_type": "execute_result"
    }
   ],
   "source": [
    "shell[shell['Table ID'] == 'B02001']"
   ]
  },
  {
   "cell_type": "markdown",
   "metadata": {},
   "source": [
    "## Table ID B15003: EDUCATIONAL ATTAINMENT FOR THE POPULATION 25 YEARS AND OVER"
   ]
  },
  {
   "cell_type": "code",
   "execution_count": 4,
   "metadata": {
    "execution": {
     "iopub.execute_input": "2021-02-17T02:34:30.897442Z",
     "iopub.status.busy": "2021-02-17T02:34:30.891483Z",
     "iopub.status.idle": "2021-02-17T02:34:31.013051Z",
     "shell.execute_reply": "2021-02-17T02:34:31.007091Z",
     "shell.execute_reply.started": "2021-02-17T02:34:30.897442Z"
    }
   },
   "outputs": [
    {
     "data": {
      "text/html": [
       "<div>\n",
       "<style scoped>\n",
       "    .dataframe tbody tr th:only-of-type {\n",
       "        vertical-align: middle;\n",
       "    }\n",
       "\n",
       "    .dataframe tbody tr th {\n",
       "        vertical-align: top;\n",
       "    }\n",
       "\n",
       "    .dataframe thead th {\n",
       "        text-align: right;\n",
       "    }\n",
       "</style>\n",
       "<table border=\"1\" class=\"dataframe\">\n",
       "  <thead>\n",
       "    <tr style=\"text-align: right;\">\n",
       "      <th></th>\n",
       "      <th>Table ID</th>\n",
       "      <th>Line</th>\n",
       "      <th>UniqueID</th>\n",
       "      <th>Stub</th>\n",
       "      <th>Data Release</th>\n",
       "    </tr>\n",
       "  </thead>\n",
       "  <tbody>\n",
       "    <tr>\n",
       "      <th>12247</th>\n",
       "      <td>B15003</td>\n",
       "      <td>NaN</td>\n",
       "      <td>NaN</td>\n",
       "      <td>EDUCATIONAL ATTAINMENT FOR THE POPULATION 25 Y...</td>\n",
       "      <td>1,5</td>\n",
       "    </tr>\n",
       "    <tr>\n",
       "      <th>12248</th>\n",
       "      <td>B15003</td>\n",
       "      <td>NaN</td>\n",
       "      <td>NaN</td>\n",
       "      <td>Universe:  Population 25 years and over</td>\n",
       "      <td>NaN</td>\n",
       "    </tr>\n",
       "    <tr>\n",
       "      <th>12249</th>\n",
       "      <td>B15003</td>\n",
       "      <td>1</td>\n",
       "      <td>B15003_001</td>\n",
       "      <td>Total:</td>\n",
       "      <td>NaN</td>\n",
       "    </tr>\n",
       "    <tr>\n",
       "      <th>12250</th>\n",
       "      <td>B15003</td>\n",
       "      <td>2</td>\n",
       "      <td>B15003_002</td>\n",
       "      <td>No schooling completed</td>\n",
       "      <td>NaN</td>\n",
       "    </tr>\n",
       "    <tr>\n",
       "      <th>12251</th>\n",
       "      <td>B15003</td>\n",
       "      <td>3</td>\n",
       "      <td>B15003_003</td>\n",
       "      <td>Nursery school</td>\n",
       "      <td>NaN</td>\n",
       "    </tr>\n",
       "    <tr>\n",
       "      <th>12252</th>\n",
       "      <td>B15003</td>\n",
       "      <td>4</td>\n",
       "      <td>B15003_004</td>\n",
       "      <td>Kindergarten</td>\n",
       "      <td>NaN</td>\n",
       "    </tr>\n",
       "    <tr>\n",
       "      <th>12253</th>\n",
       "      <td>B15003</td>\n",
       "      <td>5</td>\n",
       "      <td>B15003_005</td>\n",
       "      <td>1st grade</td>\n",
       "      <td>NaN</td>\n",
       "    </tr>\n",
       "    <tr>\n",
       "      <th>12254</th>\n",
       "      <td>B15003</td>\n",
       "      <td>6</td>\n",
       "      <td>B15003_006</td>\n",
       "      <td>2nd grade</td>\n",
       "      <td>NaN</td>\n",
       "    </tr>\n",
       "    <tr>\n",
       "      <th>12255</th>\n",
       "      <td>B15003</td>\n",
       "      <td>7</td>\n",
       "      <td>B15003_007</td>\n",
       "      <td>3rd grade</td>\n",
       "      <td>NaN</td>\n",
       "    </tr>\n",
       "    <tr>\n",
       "      <th>12256</th>\n",
       "      <td>B15003</td>\n",
       "      <td>8</td>\n",
       "      <td>B15003_008</td>\n",
       "      <td>4th grade</td>\n",
       "      <td>NaN</td>\n",
       "    </tr>\n",
       "    <tr>\n",
       "      <th>12257</th>\n",
       "      <td>B15003</td>\n",
       "      <td>9</td>\n",
       "      <td>B15003_009</td>\n",
       "      <td>5th grade</td>\n",
       "      <td>NaN</td>\n",
       "    </tr>\n",
       "    <tr>\n",
       "      <th>12258</th>\n",
       "      <td>B15003</td>\n",
       "      <td>10</td>\n",
       "      <td>B15003_010</td>\n",
       "      <td>6th grade</td>\n",
       "      <td>NaN</td>\n",
       "    </tr>\n",
       "    <tr>\n",
       "      <th>12259</th>\n",
       "      <td>B15003</td>\n",
       "      <td>11</td>\n",
       "      <td>B15003_011</td>\n",
       "      <td>7th grade</td>\n",
       "      <td>NaN</td>\n",
       "    </tr>\n",
       "    <tr>\n",
       "      <th>12260</th>\n",
       "      <td>B15003</td>\n",
       "      <td>12</td>\n",
       "      <td>B15003_012</td>\n",
       "      <td>8th grade</td>\n",
       "      <td>NaN</td>\n",
       "    </tr>\n",
       "    <tr>\n",
       "      <th>12261</th>\n",
       "      <td>B15003</td>\n",
       "      <td>13</td>\n",
       "      <td>B15003_013</td>\n",
       "      <td>9th grade</td>\n",
       "      <td>NaN</td>\n",
       "    </tr>\n",
       "    <tr>\n",
       "      <th>12262</th>\n",
       "      <td>B15003</td>\n",
       "      <td>14</td>\n",
       "      <td>B15003_014</td>\n",
       "      <td>10th grade</td>\n",
       "      <td>NaN</td>\n",
       "    </tr>\n",
       "    <tr>\n",
       "      <th>12263</th>\n",
       "      <td>B15003</td>\n",
       "      <td>15</td>\n",
       "      <td>B15003_015</td>\n",
       "      <td>11th grade</td>\n",
       "      <td>NaN</td>\n",
       "    </tr>\n",
       "    <tr>\n",
       "      <th>12264</th>\n",
       "      <td>B15003</td>\n",
       "      <td>16</td>\n",
       "      <td>B15003_016</td>\n",
       "      <td>12th grade, no diploma</td>\n",
       "      <td>NaN</td>\n",
       "    </tr>\n",
       "    <tr>\n",
       "      <th>12265</th>\n",
       "      <td>B15003</td>\n",
       "      <td>17</td>\n",
       "      <td>B15003_017</td>\n",
       "      <td>Regular high school diploma</td>\n",
       "      <td>NaN</td>\n",
       "    </tr>\n",
       "    <tr>\n",
       "      <th>12266</th>\n",
       "      <td>B15003</td>\n",
       "      <td>18</td>\n",
       "      <td>B15003_018</td>\n",
       "      <td>GED or alternative credential</td>\n",
       "      <td>NaN</td>\n",
       "    </tr>\n",
       "    <tr>\n",
       "      <th>12267</th>\n",
       "      <td>B15003</td>\n",
       "      <td>19</td>\n",
       "      <td>B15003_019</td>\n",
       "      <td>Some college, less than 1 year</td>\n",
       "      <td>NaN</td>\n",
       "    </tr>\n",
       "    <tr>\n",
       "      <th>12268</th>\n",
       "      <td>B15003</td>\n",
       "      <td>20</td>\n",
       "      <td>B15003_020</td>\n",
       "      <td>Some college, 1 or more years, no degree</td>\n",
       "      <td>NaN</td>\n",
       "    </tr>\n",
       "    <tr>\n",
       "      <th>12269</th>\n",
       "      <td>B15003</td>\n",
       "      <td>21</td>\n",
       "      <td>B15003_021</td>\n",
       "      <td>Associate's degree</td>\n",
       "      <td>NaN</td>\n",
       "    </tr>\n",
       "    <tr>\n",
       "      <th>12270</th>\n",
       "      <td>B15003</td>\n",
       "      <td>22</td>\n",
       "      <td>B15003_022</td>\n",
       "      <td>Bachelor's degree</td>\n",
       "      <td>NaN</td>\n",
       "    </tr>\n",
       "    <tr>\n",
       "      <th>12271</th>\n",
       "      <td>B15003</td>\n",
       "      <td>23</td>\n",
       "      <td>B15003_023</td>\n",
       "      <td>Master's degree</td>\n",
       "      <td>NaN</td>\n",
       "    </tr>\n",
       "    <tr>\n",
       "      <th>12272</th>\n",
       "      <td>B15003</td>\n",
       "      <td>24</td>\n",
       "      <td>B15003_024</td>\n",
       "      <td>Professional school degree</td>\n",
       "      <td>NaN</td>\n",
       "    </tr>\n",
       "    <tr>\n",
       "      <th>12273</th>\n",
       "      <td>B15003</td>\n",
       "      <td>25</td>\n",
       "      <td>B15003_025</td>\n",
       "      <td>Doctorate degree</td>\n",
       "      <td>NaN</td>\n",
       "    </tr>\n",
       "  </tbody>\n",
       "</table>\n",
       "</div>"
      ],
      "text/plain": [
       "      Table ID Line    UniqueID  \\\n",
       "12247   B15003  NaN         NaN   \n",
       "12248   B15003  NaN         NaN   \n",
       "12249   B15003    1  B15003_001   \n",
       "12250   B15003    2  B15003_002   \n",
       "12251   B15003    3  B15003_003   \n",
       "12252   B15003    4  B15003_004   \n",
       "12253   B15003    5  B15003_005   \n",
       "12254   B15003    6  B15003_006   \n",
       "12255   B15003    7  B15003_007   \n",
       "12256   B15003    8  B15003_008   \n",
       "12257   B15003    9  B15003_009   \n",
       "12258   B15003   10  B15003_010   \n",
       "12259   B15003   11  B15003_011   \n",
       "12260   B15003   12  B15003_012   \n",
       "12261   B15003   13  B15003_013   \n",
       "12262   B15003   14  B15003_014   \n",
       "12263   B15003   15  B15003_015   \n",
       "12264   B15003   16  B15003_016   \n",
       "12265   B15003   17  B15003_017   \n",
       "12266   B15003   18  B15003_018   \n",
       "12267   B15003   19  B15003_019   \n",
       "12268   B15003   20  B15003_020   \n",
       "12269   B15003   21  B15003_021   \n",
       "12270   B15003   22  B15003_022   \n",
       "12271   B15003   23  B15003_023   \n",
       "12272   B15003   24  B15003_024   \n",
       "12273   B15003   25  B15003_025   \n",
       "\n",
       "                                                    Stub Data Release  \n",
       "12247  EDUCATIONAL ATTAINMENT FOR THE POPULATION 25 Y...          1,5  \n",
       "12248            Universe:  Population 25 years and over          NaN  \n",
       "12249                                             Total:          NaN  \n",
       "12250                             No schooling completed          NaN  \n",
       "12251                                     Nursery school          NaN  \n",
       "12252                                       Kindergarten          NaN  \n",
       "12253                                          1st grade          NaN  \n",
       "12254                                          2nd grade          NaN  \n",
       "12255                                          3rd grade          NaN  \n",
       "12256                                          4th grade          NaN  \n",
       "12257                                          5th grade          NaN  \n",
       "12258                                          6th grade          NaN  \n",
       "12259                                          7th grade          NaN  \n",
       "12260                                          8th grade          NaN  \n",
       "12261                                          9th grade          NaN  \n",
       "12262                                         10th grade          NaN  \n",
       "12263                                         11th grade          NaN  \n",
       "12264                             12th grade, no diploma          NaN  \n",
       "12265                        Regular high school diploma          NaN  \n",
       "12266                      GED or alternative credential          NaN  \n",
       "12267                     Some college, less than 1 year          NaN  \n",
       "12268           Some college, 1 or more years, no degree          NaN  \n",
       "12269                                 Associate's degree          NaN  \n",
       "12270                                  Bachelor's degree          NaN  \n",
       "12271                                    Master's degree          NaN  \n",
       "12272                         Professional school degree          NaN  \n",
       "12273                                   Doctorate degree          NaN  "
      ]
     },
     "execution_count": 4,
     "metadata": {},
     "output_type": "execute_result"
    }
   ],
   "source": [
    "shell[shell['Table ID'] == 'B15003']  "
   ]
  },
  {
   "cell_type": "markdown",
   "metadata": {},
   "source": [
    "## Table ID B19101: FAMILY INCOME IN THE PAST 12 MONTHS (IN 2019 INFLATION-ADJUSTED DOLLARS)"
   ]
  },
  {
   "cell_type": "code",
   "execution_count": 5,
   "metadata": {
    "execution": {
     "iopub.execute_input": "2021-02-17T02:34:31.017138Z",
     "iopub.status.busy": "2021-02-17T02:34:31.017138Z",
     "iopub.status.idle": "2021-02-17T02:34:31.112765Z",
     "shell.execute_reply": "2021-02-17T02:34:31.106805Z",
     "shell.execute_reply.started": "2021-02-17T02:34:31.017138Z"
    }
   },
   "outputs": [
    {
     "data": {
      "text/html": [
       "<div>\n",
       "<style scoped>\n",
       "    .dataframe tbody tr th:only-of-type {\n",
       "        vertical-align: middle;\n",
       "    }\n",
       "\n",
       "    .dataframe tbody tr th {\n",
       "        vertical-align: top;\n",
       "    }\n",
       "\n",
       "    .dataframe thead th {\n",
       "        text-align: right;\n",
       "    }\n",
       "</style>\n",
       "<table border=\"1\" class=\"dataframe\">\n",
       "  <thead>\n",
       "    <tr style=\"text-align: right;\">\n",
       "      <th></th>\n",
       "      <th>Table ID</th>\n",
       "      <th>Line</th>\n",
       "      <th>UniqueID</th>\n",
       "      <th>Stub</th>\n",
       "      <th>Data Release</th>\n",
       "    </tr>\n",
       "  </thead>\n",
       "  <tbody>\n",
       "    <tr>\n",
       "      <th>18283</th>\n",
       "      <td>B19101</td>\n",
       "      <td></td>\n",
       "      <td>NaN</td>\n",
       "      <td>FAMILY INCOME IN THE PAST 12 MONTHS (IN 2019 I...</td>\n",
       "      <td>1,5</td>\n",
       "    </tr>\n",
       "    <tr>\n",
       "      <th>18284</th>\n",
       "      <td>B19101</td>\n",
       "      <td></td>\n",
       "      <td>NaN</td>\n",
       "      <td>Universe:  Families</td>\n",
       "      <td>NaN</td>\n",
       "    </tr>\n",
       "    <tr>\n",
       "      <th>18285</th>\n",
       "      <td>B19101</td>\n",
       "      <td>1</td>\n",
       "      <td>B19101_001</td>\n",
       "      <td>Total:</td>\n",
       "      <td>NaN</td>\n",
       "    </tr>\n",
       "    <tr>\n",
       "      <th>18286</th>\n",
       "      <td>B19101</td>\n",
       "      <td>2</td>\n",
       "      <td>B19101_002</td>\n",
       "      <td>Less than $10,000</td>\n",
       "      <td>NaN</td>\n",
       "    </tr>\n",
       "    <tr>\n",
       "      <th>18287</th>\n",
       "      <td>B19101</td>\n",
       "      <td>3</td>\n",
       "      <td>B19101_003</td>\n",
       "      <td>$10,000 to $14,999</td>\n",
       "      <td>NaN</td>\n",
       "    </tr>\n",
       "    <tr>\n",
       "      <th>18288</th>\n",
       "      <td>B19101</td>\n",
       "      <td>4</td>\n",
       "      <td>B19101_004</td>\n",
       "      <td>$15,000 to $19,999</td>\n",
       "      <td>NaN</td>\n",
       "    </tr>\n",
       "    <tr>\n",
       "      <th>18289</th>\n",
       "      <td>B19101</td>\n",
       "      <td>5</td>\n",
       "      <td>B19101_005</td>\n",
       "      <td>$20,000 to $24,999</td>\n",
       "      <td>NaN</td>\n",
       "    </tr>\n",
       "    <tr>\n",
       "      <th>18290</th>\n",
       "      <td>B19101</td>\n",
       "      <td>6</td>\n",
       "      <td>B19101_006</td>\n",
       "      <td>$25,000 to $29,999</td>\n",
       "      <td>NaN</td>\n",
       "    </tr>\n",
       "    <tr>\n",
       "      <th>18291</th>\n",
       "      <td>B19101</td>\n",
       "      <td>7</td>\n",
       "      <td>B19101_007</td>\n",
       "      <td>$30,000 to $34,999</td>\n",
       "      <td>NaN</td>\n",
       "    </tr>\n",
       "    <tr>\n",
       "      <th>18292</th>\n",
       "      <td>B19101</td>\n",
       "      <td>8</td>\n",
       "      <td>B19101_008</td>\n",
       "      <td>$35,000 to $39,999</td>\n",
       "      <td>NaN</td>\n",
       "    </tr>\n",
       "    <tr>\n",
       "      <th>18293</th>\n",
       "      <td>B19101</td>\n",
       "      <td>9</td>\n",
       "      <td>B19101_009</td>\n",
       "      <td>$40,000 to $44,999</td>\n",
       "      <td>NaN</td>\n",
       "    </tr>\n",
       "    <tr>\n",
       "      <th>18294</th>\n",
       "      <td>B19101</td>\n",
       "      <td>10</td>\n",
       "      <td>B19101_010</td>\n",
       "      <td>$45,000 to $49,999</td>\n",
       "      <td>NaN</td>\n",
       "    </tr>\n",
       "    <tr>\n",
       "      <th>18295</th>\n",
       "      <td>B19101</td>\n",
       "      <td>11</td>\n",
       "      <td>B19101_011</td>\n",
       "      <td>$50,000 to $59,999</td>\n",
       "      <td>NaN</td>\n",
       "    </tr>\n",
       "    <tr>\n",
       "      <th>18296</th>\n",
       "      <td>B19101</td>\n",
       "      <td>12</td>\n",
       "      <td>B19101_012</td>\n",
       "      <td>$60,000 to $74,999</td>\n",
       "      <td>NaN</td>\n",
       "    </tr>\n",
       "    <tr>\n",
       "      <th>18297</th>\n",
       "      <td>B19101</td>\n",
       "      <td>13</td>\n",
       "      <td>B19101_013</td>\n",
       "      <td>$75,000 to $99,999</td>\n",
       "      <td>NaN</td>\n",
       "    </tr>\n",
       "    <tr>\n",
       "      <th>18298</th>\n",
       "      <td>B19101</td>\n",
       "      <td>14</td>\n",
       "      <td>B19101_014</td>\n",
       "      <td>$100,000 to $124,999</td>\n",
       "      <td>NaN</td>\n",
       "    </tr>\n",
       "    <tr>\n",
       "      <th>18299</th>\n",
       "      <td>B19101</td>\n",
       "      <td>15</td>\n",
       "      <td>B19101_015</td>\n",
       "      <td>$125,000 to $149,999</td>\n",
       "      <td>NaN</td>\n",
       "    </tr>\n",
       "    <tr>\n",
       "      <th>18300</th>\n",
       "      <td>B19101</td>\n",
       "      <td>16</td>\n",
       "      <td>B19101_016</td>\n",
       "      <td>$150,000 to $199,999</td>\n",
       "      <td>NaN</td>\n",
       "    </tr>\n",
       "    <tr>\n",
       "      <th>18301</th>\n",
       "      <td>B19101</td>\n",
       "      <td>17</td>\n",
       "      <td>B19101_017</td>\n",
       "      <td>$200,000 or more</td>\n",
       "      <td>NaN</td>\n",
       "    </tr>\n",
       "  </tbody>\n",
       "</table>\n",
       "</div>"
      ],
      "text/plain": [
       "      Table ID Line    UniqueID  \\\n",
       "18283   B19101              NaN   \n",
       "18284   B19101              NaN   \n",
       "18285   B19101    1  B19101_001   \n",
       "18286   B19101    2  B19101_002   \n",
       "18287   B19101    3  B19101_003   \n",
       "18288   B19101    4  B19101_004   \n",
       "18289   B19101    5  B19101_005   \n",
       "18290   B19101    6  B19101_006   \n",
       "18291   B19101    7  B19101_007   \n",
       "18292   B19101    8  B19101_008   \n",
       "18293   B19101    9  B19101_009   \n",
       "18294   B19101   10  B19101_010   \n",
       "18295   B19101   11  B19101_011   \n",
       "18296   B19101   12  B19101_012   \n",
       "18297   B19101   13  B19101_013   \n",
       "18298   B19101   14  B19101_014   \n",
       "18299   B19101   15  B19101_015   \n",
       "18300   B19101   16  B19101_016   \n",
       "18301   B19101   17  B19101_017   \n",
       "\n",
       "                                                    Stub Data Release  \n",
       "18283  FAMILY INCOME IN THE PAST 12 MONTHS (IN 2019 I...          1,5  \n",
       "18284                                Universe:  Families          NaN  \n",
       "18285                                             Total:          NaN  \n",
       "18286                                  Less than $10,000          NaN  \n",
       "18287                                 $10,000 to $14,999          NaN  \n",
       "18288                                 $15,000 to $19,999          NaN  \n",
       "18289                                 $20,000 to $24,999          NaN  \n",
       "18290                                 $25,000 to $29,999          NaN  \n",
       "18291                                 $30,000 to $34,999          NaN  \n",
       "18292                                 $35,000 to $39,999          NaN  \n",
       "18293                                 $40,000 to $44,999          NaN  \n",
       "18294                                 $45,000 to $49,999          NaN  \n",
       "18295                                 $50,000 to $59,999          NaN  \n",
       "18296                                 $60,000 to $74,999          NaN  \n",
       "18297                                 $75,000 to $99,999          NaN  \n",
       "18298                               $100,000 to $124,999          NaN  \n",
       "18299                               $125,000 to $149,999          NaN  \n",
       "18300                               $150,000 to $199,999          NaN  \n",
       "18301                                   $200,000 or more          NaN  "
      ]
     },
     "execution_count": 5,
     "metadata": {},
     "output_type": "execute_result"
    }
   ],
   "source": [
    "shell[shell['Table ID']=='B19101']  "
   ]
  },
  {
   "cell_type": "markdown",
   "metadata": {},
   "source": [
    "## Table ID B03002: HISPANIC OR LATINO ORIGIN BY RACE"
   ]
  },
  {
   "cell_type": "code",
   "execution_count": 6,
   "metadata": {
    "execution": {
     "iopub.execute_input": "2021-02-17T02:34:31.116861Z",
     "iopub.status.busy": "2021-02-17T02:34:31.116861Z",
     "iopub.status.idle": "2021-02-17T02:34:31.245226Z",
     "shell.execute_reply": "2021-02-17T02:34:31.240261Z",
     "shell.execute_reply.started": "2021-02-17T02:34:31.116861Z"
    }
   },
   "outputs": [
    {
     "data": {
      "text/html": [
       "<div>\n",
       "<style scoped>\n",
       "    .dataframe tbody tr th:only-of-type {\n",
       "        vertical-align: middle;\n",
       "    }\n",
       "\n",
       "    .dataframe tbody tr th {\n",
       "        vertical-align: top;\n",
       "    }\n",
       "\n",
       "    .dataframe thead th {\n",
       "        text-align: right;\n",
       "    }\n",
       "</style>\n",
       "<table border=\"1\" class=\"dataframe\">\n",
       "  <thead>\n",
       "    <tr style=\"text-align: right;\">\n",
       "      <th></th>\n",
       "      <th>Table ID</th>\n",
       "      <th>Line</th>\n",
       "      <th>UniqueID</th>\n",
       "      <th>Stub</th>\n",
       "      <th>Data Release</th>\n",
       "    </tr>\n",
       "  </thead>\n",
       "  <tbody>\n",
       "    <tr>\n",
       "      <th>957</th>\n",
       "      <td>B03002</td>\n",
       "      <td></td>\n",
       "      <td>NaN</td>\n",
       "      <td>HISPANIC OR LATINO ORIGIN BY RACE</td>\n",
       "      <td>1,5</td>\n",
       "    </tr>\n",
       "    <tr>\n",
       "      <th>958</th>\n",
       "      <td>B03002</td>\n",
       "      <td></td>\n",
       "      <td>NaN</td>\n",
       "      <td>Universe:  Total population</td>\n",
       "      <td>NaN</td>\n",
       "    </tr>\n",
       "    <tr>\n",
       "      <th>959</th>\n",
       "      <td>B03002</td>\n",
       "      <td>1</td>\n",
       "      <td>B03002_001</td>\n",
       "      <td>Total:</td>\n",
       "      <td>NaN</td>\n",
       "    </tr>\n",
       "    <tr>\n",
       "      <th>960</th>\n",
       "      <td>B03002</td>\n",
       "      <td>2</td>\n",
       "      <td>B03002_002</td>\n",
       "      <td>Not Hispanic or Latino:</td>\n",
       "      <td>NaN</td>\n",
       "    </tr>\n",
       "    <tr>\n",
       "      <th>961</th>\n",
       "      <td>B03002</td>\n",
       "      <td>3</td>\n",
       "      <td>B03002_003</td>\n",
       "      <td>White alone</td>\n",
       "      <td>NaN</td>\n",
       "    </tr>\n",
       "    <tr>\n",
       "      <th>962</th>\n",
       "      <td>B03002</td>\n",
       "      <td>4</td>\n",
       "      <td>B03002_004</td>\n",
       "      <td>Black or African American alone</td>\n",
       "      <td>NaN</td>\n",
       "    </tr>\n",
       "    <tr>\n",
       "      <th>963</th>\n",
       "      <td>B03002</td>\n",
       "      <td>5</td>\n",
       "      <td>B03002_005</td>\n",
       "      <td>American Indian and Alaska Native alone</td>\n",
       "      <td>NaN</td>\n",
       "    </tr>\n",
       "    <tr>\n",
       "      <th>964</th>\n",
       "      <td>B03002</td>\n",
       "      <td>6</td>\n",
       "      <td>B03002_006</td>\n",
       "      <td>Asian alone</td>\n",
       "      <td>NaN</td>\n",
       "    </tr>\n",
       "    <tr>\n",
       "      <th>965</th>\n",
       "      <td>B03002</td>\n",
       "      <td>7</td>\n",
       "      <td>B03002_007</td>\n",
       "      <td>Native Hawaiian and Other Pacific Islander alone</td>\n",
       "      <td>NaN</td>\n",
       "    </tr>\n",
       "    <tr>\n",
       "      <th>966</th>\n",
       "      <td>B03002</td>\n",
       "      <td>8</td>\n",
       "      <td>B03002_008</td>\n",
       "      <td>Some other race alone</td>\n",
       "      <td>NaN</td>\n",
       "    </tr>\n",
       "    <tr>\n",
       "      <th>967</th>\n",
       "      <td>B03002</td>\n",
       "      <td>9</td>\n",
       "      <td>B03002_009</td>\n",
       "      <td>Two or more races:</td>\n",
       "      <td>NaN</td>\n",
       "    </tr>\n",
       "    <tr>\n",
       "      <th>968</th>\n",
       "      <td>B03002</td>\n",
       "      <td>10</td>\n",
       "      <td>B03002_010</td>\n",
       "      <td>Two races including Some other race</td>\n",
       "      <td>NaN</td>\n",
       "    </tr>\n",
       "    <tr>\n",
       "      <th>969</th>\n",
       "      <td>B03002</td>\n",
       "      <td>11</td>\n",
       "      <td>B03002_011</td>\n",
       "      <td>Two races excluding Some other race, and three...</td>\n",
       "      <td>NaN</td>\n",
       "    </tr>\n",
       "    <tr>\n",
       "      <th>970</th>\n",
       "      <td>B03002</td>\n",
       "      <td>12</td>\n",
       "      <td>B03002_012</td>\n",
       "      <td>Hispanic or Latino:</td>\n",
       "      <td>NaN</td>\n",
       "    </tr>\n",
       "    <tr>\n",
       "      <th>971</th>\n",
       "      <td>B03002</td>\n",
       "      <td>13</td>\n",
       "      <td>B03002_013</td>\n",
       "      <td>White alone</td>\n",
       "      <td>NaN</td>\n",
       "    </tr>\n",
       "    <tr>\n",
       "      <th>972</th>\n",
       "      <td>B03002</td>\n",
       "      <td>14</td>\n",
       "      <td>B03002_014</td>\n",
       "      <td>Black or African American alone</td>\n",
       "      <td>NaN</td>\n",
       "    </tr>\n",
       "    <tr>\n",
       "      <th>973</th>\n",
       "      <td>B03002</td>\n",
       "      <td>15</td>\n",
       "      <td>B03002_015</td>\n",
       "      <td>American Indian and Alaska Native alone</td>\n",
       "      <td>NaN</td>\n",
       "    </tr>\n",
       "    <tr>\n",
       "      <th>974</th>\n",
       "      <td>B03002</td>\n",
       "      <td>16</td>\n",
       "      <td>B03002_016</td>\n",
       "      <td>Asian alone</td>\n",
       "      <td>NaN</td>\n",
       "    </tr>\n",
       "    <tr>\n",
       "      <th>975</th>\n",
       "      <td>B03002</td>\n",
       "      <td>17</td>\n",
       "      <td>B03002_017</td>\n",
       "      <td>Native Hawaiian and Other Pacific Islander alone</td>\n",
       "      <td>NaN</td>\n",
       "    </tr>\n",
       "    <tr>\n",
       "      <th>976</th>\n",
       "      <td>B03002</td>\n",
       "      <td>18</td>\n",
       "      <td>B03002_018</td>\n",
       "      <td>Some other race alone</td>\n",
       "      <td>NaN</td>\n",
       "    </tr>\n",
       "    <tr>\n",
       "      <th>977</th>\n",
       "      <td>B03002</td>\n",
       "      <td>19</td>\n",
       "      <td>B03002_019</td>\n",
       "      <td>Two or more races:</td>\n",
       "      <td>NaN</td>\n",
       "    </tr>\n",
       "    <tr>\n",
       "      <th>978</th>\n",
       "      <td>B03002</td>\n",
       "      <td>20</td>\n",
       "      <td>B03002_020</td>\n",
       "      <td>Two races including Some other race</td>\n",
       "      <td>NaN</td>\n",
       "    </tr>\n",
       "    <tr>\n",
       "      <th>979</th>\n",
       "      <td>B03002</td>\n",
       "      <td>21</td>\n",
       "      <td>B03002_021</td>\n",
       "      <td>Two races excluding Some other race, and three...</td>\n",
       "      <td>NaN</td>\n",
       "    </tr>\n",
       "  </tbody>\n",
       "</table>\n",
       "</div>"
      ],
      "text/plain": [
       "    Table ID Line    UniqueID  \\\n",
       "957   B03002              NaN   \n",
       "958   B03002              NaN   \n",
       "959   B03002    1  B03002_001   \n",
       "960   B03002    2  B03002_002   \n",
       "961   B03002    3  B03002_003   \n",
       "962   B03002    4  B03002_004   \n",
       "963   B03002    5  B03002_005   \n",
       "964   B03002    6  B03002_006   \n",
       "965   B03002    7  B03002_007   \n",
       "966   B03002    8  B03002_008   \n",
       "967   B03002    9  B03002_009   \n",
       "968   B03002   10  B03002_010   \n",
       "969   B03002   11  B03002_011   \n",
       "970   B03002   12  B03002_012   \n",
       "971   B03002   13  B03002_013   \n",
       "972   B03002   14  B03002_014   \n",
       "973   B03002   15  B03002_015   \n",
       "974   B03002   16  B03002_016   \n",
       "975   B03002   17  B03002_017   \n",
       "976   B03002   18  B03002_018   \n",
       "977   B03002   19  B03002_019   \n",
       "978   B03002   20  B03002_020   \n",
       "979   B03002   21  B03002_021   \n",
       "\n",
       "                                                  Stub Data Release  \n",
       "957                  HISPANIC OR LATINO ORIGIN BY RACE          1,5  \n",
       "958                        Universe:  Total population          NaN  \n",
       "959                                             Total:          NaN  \n",
       "960                            Not Hispanic or Latino:          NaN  \n",
       "961                                        White alone          NaN  \n",
       "962                    Black or African American alone          NaN  \n",
       "963            American Indian and Alaska Native alone          NaN  \n",
       "964                                        Asian alone          NaN  \n",
       "965   Native Hawaiian and Other Pacific Islander alone          NaN  \n",
       "966                              Some other race alone          NaN  \n",
       "967                                 Two or more races:          NaN  \n",
       "968                Two races including Some other race          NaN  \n",
       "969  Two races excluding Some other race, and three...          NaN  \n",
       "970                                Hispanic or Latino:          NaN  \n",
       "971                                        White alone          NaN  \n",
       "972                    Black or African American alone          NaN  \n",
       "973            American Indian and Alaska Native alone          NaN  \n",
       "974                                        Asian alone          NaN  \n",
       "975   Native Hawaiian and Other Pacific Islander alone          NaN  \n",
       "976                              Some other race alone          NaN  \n",
       "977                                 Two or more races:          NaN  \n",
       "978                Two races including Some other race          NaN  \n",
       "979  Two races excluding Some other race, and three...          NaN  "
      ]
     },
     "execution_count": 6,
     "metadata": {},
     "output_type": "execute_result"
    }
   ],
   "source": [
    "shell[shell['Table ID']=='B03002'] "
   ]
  },
  {
   "cell_type": "code",
   "execution_count": 7,
   "metadata": {
    "execution": {
     "iopub.execute_input": "2021-02-17T02:34:31.250278Z",
     "iopub.status.busy": "2021-02-17T02:34:31.249204Z",
     "iopub.status.idle": "2021-02-17T02:34:31.279732Z",
     "shell.execute_reply": "2021-02-17T02:34:31.272782Z",
     "shell.execute_reply.started": "2021-02-17T02:34:31.250278Z"
    }
   },
   "outputs": [],
   "source": [
    "#Include invariants, i.e, variables of interest, acs, etc.\n",
    "acs_year = 2019\n",
    "#set up API key\n",
    "key = # sign up for a key here: https://api.census.gov/data/key_signup.html"
   ]
  },
  {
   "cell_type": "markdown",
   "metadata": {},
   "source": [
    "## Defining our fields of interest using the Unique ID as our reference points. Please note that an extra character, \"E\", is added here as it pertains to the Estimate values "
   ]
  },
  {
   "cell_type": "code",
   "execution_count": 24,
   "metadata": {
    "execution": {
     "iopub.execute_input": "2021-02-17T03:00:02.250324Z",
     "iopub.status.busy": "2021-02-17T03:00:02.249335Z",
     "iopub.status.idle": "2021-02-17T03:00:02.273170Z",
     "shell.execute_reply": "2021-02-17T03:00:02.269203Z",
     "shell.execute_reply.started": "2021-02-17T03:00:02.250324Z"
    },
    "scrolled": true
   },
   "outputs": [],
   "source": [
    "#create list of desired vars \n",
    "race_vars = [\"B02001_002E\", \"B02001_003E\", \"B02001_004E\", \"B02001_005E\", \"B02001_006E\", \n",
    "             \"B02001_007E\", \"B02001_008E\"]\n",
    "education_vars = [\"B15003_002E\", \"B15003_003E\", \"B15003_004E\", \"B15003_005E\", \"B15003_006E\",\n",
    "                  \"B15003_007E\", \"B15003_008E\", \"B15003_009E\", \"B15003_010E\", \"B15003_011E\",\n",
    "                  \"B15003_012E\", \"B15003_013E\", \"B15003_014E\",\"B15003_015E\", \"B15003_016E\",\n",
    "                  \"B15003_017E\", \"B15003_018E\", \"B15003_019E\", \"B15003_020E\", \"B15003_021E\",\n",
    "                \"B15003_022E\", \"B15003_023E\", \"B15003_024E\", \"B15003_025E\"]\n",
    "family_hh_income = [\"B19101_002E\", \"B19101_003E\", \"B19101_004E\", \"B19101_005E\", \"B19101_006E\", \"B19101_007E\", \n",
    "                    \"B19101_008E\", \"B19101_009E\", \"B19101_010E\", \"B19101_011E\", \"B19101_012E\", \"B19101_013E\",\n",
    "                    \"B19101_014E\", \"B19101_015E\", \"B19101_016E\", \"B19101_017E\"]\n",
    "latino_population = [\"B03002_002E\", \"B03002_012E\"]\n",
    "\n",
    "#merging variables into columns and then converting into a tuple\n",
    "census_var_list = race_vars + education_vars + family_hh_income + latino_population"
   ]
  },
  {
   "cell_type": "markdown",
   "metadata": {},
   "source": [
    "### Calling API at the census tract level. We were able to retrieve the corresponding state and city FIPS codes via this link: https://www2.census.gov/programs-surveys/decennial/2010/partners/pdf/FIPS_StateCounty_Code.pdf"
   ]
  },
  {
   "cell_type": "code",
   "execution_count": 25,
   "metadata": {
    "execution": {
     "iopub.execute_input": "2021-02-17T03:00:05.577690Z",
     "iopub.status.busy": "2021-02-17T03:00:05.576696Z",
     "iopub.status.idle": "2021-02-17T03:00:23.411740Z",
     "shell.execute_reply": "2021-02-17T03:00:23.408759Z",
     "shell.execute_reply.started": "2021-02-17T03:00:05.577690Z"
    },
    "scrolled": true
   },
   "outputs": [
    {
     "data": {
      "text/html": [
       "<div>\n",
       "<style scoped>\n",
       "    .dataframe tbody tr th:only-of-type {\n",
       "        vertical-align: middle;\n",
       "    }\n",
       "\n",
       "    .dataframe tbody tr th {\n",
       "        vertical-align: top;\n",
       "    }\n",
       "\n",
       "    .dataframe thead th {\n",
       "        text-align: right;\n",
       "    }\n",
       "</style>\n",
       "<table border=\"1\" class=\"dataframe\">\n",
       "  <thead>\n",
       "    <tr style=\"text-align: right;\">\n",
       "      <th></th>\n",
       "      <th>B02001_002E</th>\n",
       "      <th>B02001_003E</th>\n",
       "      <th>B02001_004E</th>\n",
       "      <th>B02001_005E</th>\n",
       "      <th>B02001_006E</th>\n",
       "      <th>B02001_007E</th>\n",
       "      <th>B02001_008E</th>\n",
       "      <th>B15003_002E</th>\n",
       "      <th>B15003_003E</th>\n",
       "      <th>B15003_004E</th>\n",
       "      <th>...</th>\n",
       "      <th>B19101_013E</th>\n",
       "      <th>B19101_014E</th>\n",
       "      <th>B19101_015E</th>\n",
       "      <th>B19101_016E</th>\n",
       "      <th>B19101_017E</th>\n",
       "      <th>B03002_002E</th>\n",
       "      <th>B03002_012E</th>\n",
       "      <th>state</th>\n",
       "      <th>county</th>\n",
       "      <th>tract</th>\n",
       "    </tr>\n",
       "  </thead>\n",
       "  <tbody>\n",
       "    <tr>\n",
       "      <th>0</th>\n",
       "      <td>3754.0</td>\n",
       "      <td>991.0</td>\n",
       "      <td>17.0</td>\n",
       "      <td>122.0</td>\n",
       "      <td>0.0</td>\n",
       "      <td>201.0</td>\n",
       "      <td>419.0</td>\n",
       "      <td>22.0</td>\n",
       "      <td>0.0</td>\n",
       "      <td>0.0</td>\n",
       "      <td>...</td>\n",
       "      <td>62.0</td>\n",
       "      <td>118.0</td>\n",
       "      <td>34.0</td>\n",
       "      <td>105.0</td>\n",
       "      <td>254.0</td>\n",
       "      <td>4466.0</td>\n",
       "      <td>1038.0</td>\n",
       "      <td>37</td>\n",
       "      <td>063</td>\n",
       "      <td>000600</td>\n",
       "    </tr>\n",
       "    <tr>\n",
       "      <th>1</th>\n",
       "      <td>635.0</td>\n",
       "      <td>2330.0</td>\n",
       "      <td>0.0</td>\n",
       "      <td>0.0</td>\n",
       "      <td>0.0</td>\n",
       "      <td>77.0</td>\n",
       "      <td>369.0</td>\n",
       "      <td>23.0</td>\n",
       "      <td>0.0</td>\n",
       "      <td>0.0</td>\n",
       "      <td>...</td>\n",
       "      <td>4.0</td>\n",
       "      <td>27.0</td>\n",
       "      <td>42.0</td>\n",
       "      <td>0.0</td>\n",
       "      <td>5.0</td>\n",
       "      <td>2771.0</td>\n",
       "      <td>640.0</td>\n",
       "      <td>37</td>\n",
       "      <td>063</td>\n",
       "      <td>001304</td>\n",
       "    </tr>\n",
       "  </tbody>\n",
       "</table>\n",
       "<p>2 rows × 52 columns</p>\n",
       "</div>"
      ],
      "text/plain": [
       "   B02001_002E  B02001_003E  B02001_004E  B02001_005E  B02001_006E  \\\n",
       "0       3754.0        991.0         17.0        122.0          0.0   \n",
       "1        635.0       2330.0          0.0          0.0          0.0   \n",
       "\n",
       "   B02001_007E  B02001_008E  B15003_002E  B15003_003E  B15003_004E  ...  \\\n",
       "0        201.0        419.0         22.0          0.0          0.0  ...   \n",
       "1         77.0        369.0         23.0          0.0          0.0  ...   \n",
       "\n",
       "   B19101_013E  B19101_014E  B19101_015E  B19101_016E  B19101_017E  \\\n",
       "0         62.0        118.0         34.0        105.0        254.0   \n",
       "1          4.0         27.0         42.0          0.0          5.0   \n",
       "\n",
       "   B03002_002E  B03002_012E  state  county   tract  \n",
       "0       4466.0       1038.0     37     063  000600  \n",
       "1       2771.0        640.0     37     063  001304  \n",
       "\n",
       "[2 rows x 52 columns]"
      ]
     },
     "execution_count": 25,
     "metadata": {},
     "output_type": "execute_result"
    }
   ],
   "source": [
    "#downloading the census data\n",
    "c = Census(key=key, year = acs_year)\n",
    "census_data_census_tract = c.acs5.get(fields = census_var_list, \n",
    "                                      geo = {'for': 'tract:*' , \n",
    "                                             'in': 'state:{} county:{}'.format('37', '063')}\n",
    "                                     )\n",
    "census_tracts = pd.DataFrame(census_data_census_tract)\n",
    "census_tracts.head(2)"
   ]
  },
  {
   "cell_type": "markdown",
   "metadata": {},
   "source": [
    "## Reshaping dataframe from wide format (many columns) to a long format"
   ]
  },
  {
   "cell_type": "code",
   "execution_count": 26,
   "metadata": {
    "execution": {
     "iopub.execute_input": "2021-02-17T03:00:23.418719Z",
     "iopub.status.busy": "2021-02-17T03:00:23.417698Z",
     "iopub.status.idle": "2021-02-17T03:00:23.486260Z",
     "shell.execute_reply": "2021-02-17T03:00:23.483278Z",
     "shell.execute_reply.started": "2021-02-17T03:00:23.418719Z"
    }
   },
   "outputs": [
    {
     "data": {
      "text/html": [
       "<div>\n",
       "<style scoped>\n",
       "    .dataframe tbody tr th:only-of-type {\n",
       "        vertical-align: middle;\n",
       "    }\n",
       "\n",
       "    .dataframe tbody tr th {\n",
       "        vertical-align: top;\n",
       "    }\n",
       "\n",
       "    .dataframe thead th {\n",
       "        text-align: right;\n",
       "    }\n",
       "</style>\n",
       "<table border=\"1\" class=\"dataframe\">\n",
       "  <thead>\n",
       "    <tr style=\"text-align: right;\">\n",
       "      <th></th>\n",
       "      <th>state</th>\n",
       "      <th>county</th>\n",
       "      <th>tract</th>\n",
       "      <th>variable</th>\n",
       "      <th>value</th>\n",
       "    </tr>\n",
       "  </thead>\n",
       "  <tbody>\n",
       "    <tr>\n",
       "      <th>0</th>\n",
       "      <td>37</td>\n",
       "      <td>063</td>\n",
       "      <td>000600</td>\n",
       "      <td>B02001_002E</td>\n",
       "      <td>3754.0</td>\n",
       "    </tr>\n",
       "    <tr>\n",
       "      <th>1</th>\n",
       "      <td>37</td>\n",
       "      <td>063</td>\n",
       "      <td>001304</td>\n",
       "      <td>B02001_002E</td>\n",
       "      <td>635.0</td>\n",
       "    </tr>\n",
       "  </tbody>\n",
       "</table>\n",
       "</div>"
      ],
      "text/plain": [
       "  state county   tract     variable   value\n",
       "0    37    063  000600  B02001_002E  3754.0\n",
       "1    37    063  001304  B02001_002E   635.0"
      ]
     },
     "execution_count": 26,
     "metadata": {},
     "output_type": "execute_result"
    }
   ],
   "source": [
    "census_tracts = census_tracts.melt( id_vars=['state', 'county', 'tract'],\n",
    "       value_vars=census_var_list)\n",
    "census_tracts.head(2)"
   ]
  },
  {
   "cell_type": "markdown",
   "metadata": {},
   "source": [
    "## Adding Type (ie. Race) and SubType (ie. White) columns for readability"
   ]
  },
  {
   "cell_type": "code",
   "execution_count": 27,
   "metadata": {
    "execution": {
     "iopub.execute_input": "2021-02-17T03:00:23.495179Z",
     "iopub.status.busy": "2021-02-17T03:00:23.492200Z",
     "iopub.status.idle": "2021-02-17T03:00:23.631265Z",
     "shell.execute_reply": "2021-02-17T03:00:23.626300Z",
     "shell.execute_reply.started": "2021-02-17T03:00:23.494186Z"
    }
   },
   "outputs": [
    {
     "data": {
      "text/html": [
       "<div>\n",
       "<style scoped>\n",
       "    .dataframe tbody tr th:only-of-type {\n",
       "        vertical-align: middle;\n",
       "    }\n",
       "\n",
       "    .dataframe tbody tr th {\n",
       "        vertical-align: top;\n",
       "    }\n",
       "\n",
       "    .dataframe thead th {\n",
       "        text-align: right;\n",
       "    }\n",
       "</style>\n",
       "<table border=\"1\" class=\"dataframe\">\n",
       "  <thead>\n",
       "    <tr style=\"text-align: right;\">\n",
       "      <th></th>\n",
       "      <th>state</th>\n",
       "      <th>county</th>\n",
       "      <th>tract</th>\n",
       "      <th>variable</th>\n",
       "      <th>value</th>\n",
       "      <th>Type</th>\n",
       "    </tr>\n",
       "  </thead>\n",
       "  <tbody>\n",
       "    <tr>\n",
       "      <th>0</th>\n",
       "      <td>37</td>\n",
       "      <td>063</td>\n",
       "      <td>000600</td>\n",
       "      <td>B02001_002E</td>\n",
       "      <td>3754.0</td>\n",
       "      <td>Race</td>\n",
       "    </tr>\n",
       "    <tr>\n",
       "      <th>1</th>\n",
       "      <td>37</td>\n",
       "      <td>063</td>\n",
       "      <td>001304</td>\n",
       "      <td>B02001_002E</td>\n",
       "      <td>635.0</td>\n",
       "      <td>Race</td>\n",
       "    </tr>\n",
       "    <tr>\n",
       "      <th>2</th>\n",
       "      <td>37</td>\n",
       "      <td>063</td>\n",
       "      <td>001710</td>\n",
       "      <td>B02001_002E</td>\n",
       "      <td>1874.0</td>\n",
       "      <td>Race</td>\n",
       "    </tr>\n",
       "  </tbody>\n",
       "</table>\n",
       "</div>"
      ],
      "text/plain": [
       "  state county   tract     variable   value  Type\n",
       "0    37    063  000600  B02001_002E  3754.0  Race\n",
       "1    37    063  001304  B02001_002E   635.0  Race\n",
       "2    37    063  001710  B02001_002E  1874.0  Race"
      ]
     },
     "execution_count": 27,
     "metadata": {},
     "output_type": "execute_result"
    }
   ],
   "source": [
    "demoType = {'B02001':\"Race\", 'B15003':\"Education\",\n",
    "            'B19101':\"Family Household Income\",\n",
    "            'B03002':\"Hispanic/Latino\"}\n",
    "# indexing up to 6 character -> the length of the table ID\n",
    "census_tracts['Type'] = census_tracts['variable'].apply(lambda x: demoType[x[:6]])\n",
    "census_tracts.head(3)"
   ]
  },
  {
   "cell_type": "markdown",
   "metadata": {},
   "source": [
    "Retrieving columns with the variables of interest in order to use their more  readable variable names "
   ]
  },
  {
   "cell_type": "code",
   "execution_count": 28,
   "metadata": {
    "execution": {
     "iopub.execute_input": "2021-02-17T03:00:23.640205Z",
     "iopub.status.busy": "2021-02-17T03:00:23.639214Z",
     "iopub.status.idle": "2021-02-17T03:00:23.696827Z",
     "shell.execute_reply": "2021-02-17T03:00:23.692851Z",
     "shell.execute_reply.started": "2021-02-17T03:00:23.640205Z"
    }
   },
   "outputs": [
    {
     "data": {
      "text/plain": [
       "dict_values(['White alone', 'Black or African American alone', 'American Indian and Alaska Native alone', 'Asian alone', 'Native Hawaiian and Other Pacific Islander alone', 'Some other race alone', 'Two or more races:', 'Not Hispanic or Latino:', 'Hispanic or Latino:', 'No schooling completed', 'Nursery school', 'Kindergarten', '1st grade', '2nd grade', '3rd grade', '4th grade', '5th grade', '6th grade', '7th grade', '8th grade', '9th grade', '10th grade', '11th grade', '12th grade, no diploma', 'Regular high school diploma', 'GED or alternative credential', 'Some college, less than 1 year', 'Some college, 1 or more years, no degree', \"Associate's degree\", \"Bachelor's degree\", \"Master's degree\", 'Professional school degree', 'Doctorate degree', 'Less than $10,000', '$10,000 to $14,999', '$15,000 to $19,999', '$20,000 to $24,999', '$25,000 to $29,999', '$30,000 to $34,999', '$35,000 to $39,999', '$40,000 to $44,999', '$45,000 to $49,999', '$50,000 to $59,999', '$60,000 to $74,999', '$75,000 to $99,999', '$100,000 to $124,999', '$125,000 to $149,999', '$150,000 to $199,999', '$200,000 or more'])"
      ]
     },
     "execution_count": 28,
     "metadata": {},
     "output_type": "execute_result"
    }
   ],
   "source": [
    "filterE = lambda x: x.replace(\"E\",\"\")\n",
    "variables =list(map(filterE,census_var_list))\n",
    "\n",
    "# dictionary {census unique ID  : readable variable name}\n",
    "demoSubtype = shell.query(\"UniqueID in @variables\").set_index('UniqueID')['Stub'].to_dict()\n",
    "demoSubtype.values()"
   ]
  },
  {
   "cell_type": "code",
   "execution_count": 29,
   "metadata": {
    "execution": {
     "iopub.execute_input": "2021-02-17T03:00:23.702786Z",
     "iopub.status.busy": "2021-02-17T03:00:23.701795Z",
     "iopub.status.idle": "2021-02-17T03:00:23.740532Z",
     "shell.execute_reply": "2021-02-17T03:00:23.736561Z",
     "shell.execute_reply.started": "2021-02-17T03:00:23.702786Z"
    }
   },
   "outputs": [],
   "source": [
    "census_tracts['Subtype'] = census_tracts['variable'].apply(lambda x: demoSubtype[x[:-1]])"
   ]
  },
  {
   "cell_type": "code",
   "execution_count": 30,
   "metadata": {
    "execution": {
     "iopub.execute_input": "2021-02-17T03:00:23.745499Z",
     "iopub.status.busy": "2021-02-17T03:00:23.744508Z",
     "iopub.status.idle": "2021-02-17T03:00:23.882579Z",
     "shell.execute_reply": "2021-02-17T03:00:23.878606Z",
     "shell.execute_reply.started": "2021-02-17T03:00:23.745499Z"
    }
   },
   "outputs": [
    {
     "data": {
      "text/html": [
       "<div>\n",
       "<style scoped>\n",
       "    .dataframe tbody tr th:only-of-type {\n",
       "        vertical-align: middle;\n",
       "    }\n",
       "\n",
       "    .dataframe tbody tr th {\n",
       "        vertical-align: top;\n",
       "    }\n",
       "\n",
       "    .dataframe thead th {\n",
       "        text-align: right;\n",
       "    }\n",
       "</style>\n",
       "<table border=\"1\" class=\"dataframe\">\n",
       "  <thead>\n",
       "    <tr style=\"text-align: right;\">\n",
       "      <th></th>\n",
       "      <th>state</th>\n",
       "      <th>county</th>\n",
       "      <th>tract</th>\n",
       "      <th>variable</th>\n",
       "      <th>value</th>\n",
       "      <th>Type</th>\n",
       "      <th>Subtype</th>\n",
       "    </tr>\n",
       "  </thead>\n",
       "  <tbody>\n",
       "    <tr>\n",
       "      <th>0</th>\n",
       "      <td>37</td>\n",
       "      <td>063</td>\n",
       "      <td>000600</td>\n",
       "      <td>B02001_002E</td>\n",
       "      <td>3754.0</td>\n",
       "      <td>Race</td>\n",
       "      <td>White alone</td>\n",
       "    </tr>\n",
       "    <tr>\n",
       "      <th>1</th>\n",
       "      <td>37</td>\n",
       "      <td>063</td>\n",
       "      <td>001304</td>\n",
       "      <td>B02001_002E</td>\n",
       "      <td>635.0</td>\n",
       "      <td>Race</td>\n",
       "      <td>White alone</td>\n",
       "    </tr>\n",
       "    <tr>\n",
       "      <th>2</th>\n",
       "      <td>37</td>\n",
       "      <td>063</td>\n",
       "      <td>001710</td>\n",
       "      <td>B02001_002E</td>\n",
       "      <td>1874.0</td>\n",
       "      <td>Race</td>\n",
       "      <td>White alone</td>\n",
       "    </tr>\n",
       "    <tr>\n",
       "      <th>3</th>\n",
       "      <td>37</td>\n",
       "      <td>063</td>\n",
       "      <td>001711</td>\n",
       "      <td>B02001_002E</td>\n",
       "      <td>1742.0</td>\n",
       "      <td>Race</td>\n",
       "      <td>White alone</td>\n",
       "    </tr>\n",
       "    <tr>\n",
       "      <th>4</th>\n",
       "      <td>37</td>\n",
       "      <td>063</td>\n",
       "      <td>001801</td>\n",
       "      <td>B02001_002E</td>\n",
       "      <td>4134.0</td>\n",
       "      <td>Race</td>\n",
       "      <td>White alone</td>\n",
       "    </tr>\n",
       "    <tr>\n",
       "      <th>...</th>\n",
       "      <td>...</td>\n",
       "      <td>...</td>\n",
       "      <td>...</td>\n",
       "      <td>...</td>\n",
       "      <td>...</td>\n",
       "      <td>...</td>\n",
       "      <td>...</td>\n",
       "    </tr>\n",
       "    <tr>\n",
       "      <th>2935</th>\n",
       "      <td>37</td>\n",
       "      <td>063</td>\n",
       "      <td>001807</td>\n",
       "      <td>B03002_012E</td>\n",
       "      <td>2197.0</td>\n",
       "      <td>Hispanic/Latino</td>\n",
       "      <td>Hispanic or Latino:</td>\n",
       "    </tr>\n",
       "    <tr>\n",
       "      <th>2936</th>\n",
       "      <td>37</td>\n",
       "      <td>063</td>\n",
       "      <td>001808</td>\n",
       "      <td>B03002_012E</td>\n",
       "      <td>684.0</td>\n",
       "      <td>Hispanic/Latino</td>\n",
       "      <td>Hispanic or Latino:</td>\n",
       "    </tr>\n",
       "    <tr>\n",
       "      <th>2937</th>\n",
       "      <td>37</td>\n",
       "      <td>063</td>\n",
       "      <td>001809</td>\n",
       "      <td>B03002_012E</td>\n",
       "      <td>742.0</td>\n",
       "      <td>Hispanic/Latino</td>\n",
       "      <td>Hispanic or Latino:</td>\n",
       "    </tr>\n",
       "    <tr>\n",
       "      <th>2938</th>\n",
       "      <td>37</td>\n",
       "      <td>063</td>\n",
       "      <td>002019</td>\n",
       "      <td>B03002_012E</td>\n",
       "      <td>57.0</td>\n",
       "      <td>Hispanic/Latino</td>\n",
       "      <td>Hispanic or Latino:</td>\n",
       "    </tr>\n",
       "    <tr>\n",
       "      <th>2939</th>\n",
       "      <td>37</td>\n",
       "      <td>063</td>\n",
       "      <td>002022</td>\n",
       "      <td>B03002_012E</td>\n",
       "      <td>115.0</td>\n",
       "      <td>Hispanic/Latino</td>\n",
       "      <td>Hispanic or Latino:</td>\n",
       "    </tr>\n",
       "  </tbody>\n",
       "</table>\n",
       "<p>2940 rows × 7 columns</p>\n",
       "</div>"
      ],
      "text/plain": [
       "     state county   tract     variable   value             Type  \\\n",
       "0       37    063  000600  B02001_002E  3754.0             Race   \n",
       "1       37    063  001304  B02001_002E   635.0             Race   \n",
       "2       37    063  001710  B02001_002E  1874.0             Race   \n",
       "3       37    063  001711  B02001_002E  1742.0             Race   \n",
       "4       37    063  001801  B02001_002E  4134.0             Race   \n",
       "...    ...    ...     ...          ...     ...              ...   \n",
       "2935    37    063  001807  B03002_012E  2197.0  Hispanic/Latino   \n",
       "2936    37    063  001808  B03002_012E   684.0  Hispanic/Latino   \n",
       "2937    37    063  001809  B03002_012E   742.0  Hispanic/Latino   \n",
       "2938    37    063  002019  B03002_012E    57.0  Hispanic/Latino   \n",
       "2939    37    063  002022  B03002_012E   115.0  Hispanic/Latino   \n",
       "\n",
       "                  Subtype  \n",
       "0             White alone  \n",
       "1             White alone  \n",
       "2             White alone  \n",
       "3             White alone  \n",
       "4             White alone  \n",
       "...                   ...  \n",
       "2935  Hispanic or Latino:  \n",
       "2936  Hispanic or Latino:  \n",
       "2937  Hispanic or Latino:  \n",
       "2938  Hispanic or Latino:  \n",
       "2939  Hispanic or Latino:  \n",
       "\n",
       "[2940 rows x 7 columns]"
      ]
     },
     "execution_count": 30,
     "metadata": {},
     "output_type": "execute_result"
    }
   ],
   "source": [
    "census_tracts"
   ]
  },
  {
   "cell_type": "markdown",
   "metadata": {},
   "source": [
    "## General EDA"
   ]
  },
  {
   "cell_type": "code",
   "execution_count": 31,
   "metadata": {
    "execution": {
     "iopub.execute_input": "2021-02-17T03:00:23.890525Z",
     "iopub.status.busy": "2021-02-17T03:00:23.887545Z",
     "iopub.status.idle": "2021-02-17T03:00:23.914365Z",
     "shell.execute_reply": "2021-02-17T03:00:23.910398Z",
     "shell.execute_reply.started": "2021-02-17T03:00:23.889535Z"
    }
   },
   "outputs": [],
   "source": [
    "def getType(df,x):\n",
    "    return df[df['Type'] == x]"
   ]
  },
  {
   "cell_type": "code",
   "execution_count": 32,
   "metadata": {
    "execution": {
     "iopub.execute_input": "2021-02-17T03:00:23.932246Z",
     "iopub.status.busy": "2021-02-17T03:00:23.930257Z",
     "iopub.status.idle": "2021-02-17T03:00:23.962046Z",
     "shell.execute_reply": "2021-02-17T03:00:23.958072Z",
     "shell.execute_reply.started": "2021-02-17T03:00:23.931258Z"
    }
   },
   "outputs": [
    {
     "data": {
      "text/plain": [
       "array(['Race', 'Education', 'Family Household Income', 'Hispanic/Latino'],\n",
       "      dtype=object)"
      ]
     },
     "execution_count": 32,
     "metadata": {},
     "output_type": "execute_result"
    }
   ],
   "source": [
    "census_tracts['Type'].unique()"
   ]
  },
  {
   "cell_type": "markdown",
   "metadata": {},
   "source": [
    "### Predominant Subtype Per Census Tract"
   ]
  },
  {
   "cell_type": "code",
   "execution_count": 93,
   "metadata": {
    "execution": {
     "iopub.execute_input": "2021-02-17T03:37:56.397735Z",
     "iopub.status.busy": "2021-02-17T03:37:56.396742Z",
     "iopub.status.idle": "2021-02-17T03:37:56.429513Z",
     "shell.execute_reply": "2021-02-17T03:37:56.426556Z",
     "shell.execute_reply.started": "2021-02-17T03:37:56.397735Z"
    }
   },
   "outputs": [],
   "source": [
    "def getMax(df,subtype):\n",
    "    data = (getType(df,subtype)\n",
    "     .pivot_table(index='tract',\n",
    "                  values='value',\n",
    "                  columns='Subtype',\n",
    "                  aggfunc='sum')\n",
    "           )\n",
    "    \n",
    "    print(f\"\\t----Predominant {subtype} Value Counts----\")\n",
    "    display(data\n",
    "     .apply(lambda x: x.idxmax(),1)\n",
    "     .value_counts()\n",
    "    )\n",
    "    print(f\"\\n\\t----Predominant {subtype} Absolute Count ----\")\n",
    "    display(data\n",
    "     .apply(lambda x: x.max(),1)\n",
    "     .to_frame().T\n",
    "    )"
   ]
  },
  {
   "cell_type": "code",
   "execution_count": 94,
   "metadata": {
    "execution": {
     "iopub.execute_input": "2021-02-17T03:37:57.095500Z",
     "iopub.status.busy": "2021-02-17T03:37:57.094500Z",
     "iopub.status.idle": "2021-02-17T03:37:58.019768Z",
     "shell.execute_reply": "2021-02-17T03:37:58.014418Z",
     "shell.execute_reply.started": "2021-02-17T03:37:57.095500Z"
    }
   },
   "outputs": [
    {
     "name": "stdout",
     "output_type": "stream",
     "text": [
      "\t----Predominant Race Value Counts----\n"
     ]
    },
    {
     "data": {
      "text/plain": [
       "White alone                                36\n",
       "Black or African American alone            23\n",
       "American Indian and Alaska Native alone     1\n",
       "dtype: int64"
      ]
     },
     "metadata": {},
     "output_type": "display_data"
    },
    {
     "name": "stdout",
     "output_type": "stream",
     "text": [
      "\n",
      "\t----Predominant Race Absolute Count ----\n"
     ]
    },
    {
     "data": {
      "text/html": [
       "<div>\n",
       "<style scoped>\n",
       "    .dataframe tbody tr th:only-of-type {\n",
       "        vertical-align: middle;\n",
       "    }\n",
       "\n",
       "    .dataframe tbody tr th {\n",
       "        vertical-align: top;\n",
       "    }\n",
       "\n",
       "    .dataframe thead th {\n",
       "        text-align: right;\n",
       "    }\n",
       "</style>\n",
       "<table border=\"1\" class=\"dataframe\">\n",
       "  <thead>\n",
       "    <tr style=\"text-align: right;\">\n",
       "      <th>tract</th>\n",
       "      <th>000101</th>\n",
       "      <th>000102</th>\n",
       "      <th>000200</th>\n",
       "      <th>000301</th>\n",
       "      <th>000302</th>\n",
       "      <th>000401</th>\n",
       "      <th>000402</th>\n",
       "      <th>000500</th>\n",
       "      <th>000600</th>\n",
       "      <th>000700</th>\n",
       "      <th>...</th>\n",
       "      <th>002023</th>\n",
       "      <th>002024</th>\n",
       "      <th>002025</th>\n",
       "      <th>002026</th>\n",
       "      <th>002027</th>\n",
       "      <th>002028</th>\n",
       "      <th>002100</th>\n",
       "      <th>002200</th>\n",
       "      <th>002300</th>\n",
       "      <th>980100</th>\n",
       "    </tr>\n",
       "  </thead>\n",
       "  <tbody>\n",
       "    <tr>\n",
       "      <th>0</th>\n",
       "      <td>1718.0</td>\n",
       "      <td>2510.0</td>\n",
       "      <td>2417.0</td>\n",
       "      <td>1262.0</td>\n",
       "      <td>3072.0</td>\n",
       "      <td>2603.0</td>\n",
       "      <td>2018.0</td>\n",
       "      <td>2290.0</td>\n",
       "      <td>3754.0</td>\n",
       "      <td>2601.0</td>\n",
       "      <td>...</td>\n",
       "      <td>2040.0</td>\n",
       "      <td>4518.0</td>\n",
       "      <td>3237.0</td>\n",
       "      <td>4700.0</td>\n",
       "      <td>4556.0</td>\n",
       "      <td>4568.0</td>\n",
       "      <td>5999.0</td>\n",
       "      <td>1324.0</td>\n",
       "      <td>1103.0</td>\n",
       "      <td>0.0</td>\n",
       "    </tr>\n",
       "  </tbody>\n",
       "</table>\n",
       "<p>1 rows × 60 columns</p>\n",
       "</div>"
      ],
      "text/plain": [
       "tract  000101  000102  000200  000301  000302  000401  000402  000500  000600  \\\n",
       "0      1718.0  2510.0  2417.0  1262.0  3072.0  2603.0  2018.0  2290.0  3754.0   \n",
       "\n",
       "tract  000700  ...  002023  002024  002025  002026  002027  002028  002100  \\\n",
       "0      2601.0  ...  2040.0  4518.0  3237.0  4700.0  4556.0  4568.0  5999.0   \n",
       "\n",
       "tract  002200  002300  980100  \n",
       "0      1324.0  1103.0     0.0  \n",
       "\n",
       "[1 rows x 60 columns]"
      ]
     },
     "metadata": {},
     "output_type": "display_data"
    },
    {
     "name": "stdout",
     "output_type": "stream",
     "text": [
      "\t----Predominant Education Value Counts----\n"
     ]
    },
    {
     "data": {
      "text/plain": [
       "Bachelor's degree                           40\n",
       "Regular high school diploma                 18\n",
       "10th grade                                   1\n",
       "Some college, 1 or more years, no degree     1\n",
       "dtype: int64"
      ]
     },
     "metadata": {},
     "output_type": "display_data"
    },
    {
     "name": "stdout",
     "output_type": "stream",
     "text": [
      "\n",
      "\t----Predominant Education Absolute Count ----\n"
     ]
    },
    {
     "data": {
      "text/html": [
       "<div>\n",
       "<style scoped>\n",
       "    .dataframe tbody tr th:only-of-type {\n",
       "        vertical-align: middle;\n",
       "    }\n",
       "\n",
       "    .dataframe tbody tr th {\n",
       "        vertical-align: top;\n",
       "    }\n",
       "\n",
       "    .dataframe thead th {\n",
       "        text-align: right;\n",
       "    }\n",
       "</style>\n",
       "<table border=\"1\" class=\"dataframe\">\n",
       "  <thead>\n",
       "    <tr style=\"text-align: right;\">\n",
       "      <th>tract</th>\n",
       "      <th>000101</th>\n",
       "      <th>000102</th>\n",
       "      <th>000200</th>\n",
       "      <th>000301</th>\n",
       "      <th>000302</th>\n",
       "      <th>000401</th>\n",
       "      <th>000402</th>\n",
       "      <th>000500</th>\n",
       "      <th>000600</th>\n",
       "      <th>000700</th>\n",
       "      <th>...</th>\n",
       "      <th>002023</th>\n",
       "      <th>002024</th>\n",
       "      <th>002025</th>\n",
       "      <th>002026</th>\n",
       "      <th>002027</th>\n",
       "      <th>002028</th>\n",
       "      <th>002100</th>\n",
       "      <th>002200</th>\n",
       "      <th>002300</th>\n",
       "      <th>980100</th>\n",
       "    </tr>\n",
       "  </thead>\n",
       "  <tbody>\n",
       "    <tr>\n",
       "      <th>0</th>\n",
       "      <td>487.0</td>\n",
       "      <td>719.0</td>\n",
       "      <td>660.0</td>\n",
       "      <td>397.0</td>\n",
       "      <td>717.0</td>\n",
       "      <td>631.0</td>\n",
       "      <td>729.0</td>\n",
       "      <td>527.0</td>\n",
       "      <td>868.0</td>\n",
       "      <td>684.0</td>\n",
       "      <td>...</td>\n",
       "      <td>834.0</td>\n",
       "      <td>1709.0</td>\n",
       "      <td>1688.0</td>\n",
       "      <td>1004.0</td>\n",
       "      <td>2206.0</td>\n",
       "      <td>2948.0</td>\n",
       "      <td>1557.0</td>\n",
       "      <td>486.0</td>\n",
       "      <td>239.0</td>\n",
       "      <td>0.0</td>\n",
       "    </tr>\n",
       "  </tbody>\n",
       "</table>\n",
       "<p>1 rows × 60 columns</p>\n",
       "</div>"
      ],
      "text/plain": [
       "tract  000101  000102  000200  000301  000302  000401  000402  000500  000600  \\\n",
       "0       487.0   719.0   660.0   397.0   717.0   631.0   729.0   527.0   868.0   \n",
       "\n",
       "tract  000700  ...  002023  002024  002025  002026  002027  002028  002100  \\\n",
       "0       684.0  ...   834.0  1709.0  1688.0  1004.0  2206.0  2948.0  1557.0   \n",
       "\n",
       "tract  002200  002300  980100  \n",
       "0       486.0   239.0     0.0  \n",
       "\n",
       "[1 rows x 60 columns]"
      ]
     },
     "metadata": {},
     "output_type": "display_data"
    },
    {
     "name": "stdout",
     "output_type": "stream",
     "text": [
      "\t----Predominant Family Household Income Value Counts----\n"
     ]
    },
    {
     "data": {
      "text/plain": [
       "$75,000 to $99,999      17\n",
       "$200,000 or more        13\n",
       "Less than $10,000        7\n",
       "$50,000 to $59,999       6\n",
       "$100,000 to $124,999     4\n",
       "$150,000 to $199,999     4\n",
       "$60,000 to $74,999       3\n",
       "$10,000 to $14,999       2\n",
       "$20,000 to $24,999       1\n",
       "$30,000 to $34,999       1\n",
       "$25,000 to $29,999       1\n",
       "$15,000 to $19,999       1\n",
       "dtype: int64"
      ]
     },
     "metadata": {},
     "output_type": "display_data"
    },
    {
     "name": "stdout",
     "output_type": "stream",
     "text": [
      "\n",
      "\t----Predominant Family Household Income Absolute Count ----\n"
     ]
    },
    {
     "data": {
      "text/html": [
       "<div>\n",
       "<style scoped>\n",
       "    .dataframe tbody tr th:only-of-type {\n",
       "        vertical-align: middle;\n",
       "    }\n",
       "\n",
       "    .dataframe tbody tr th {\n",
       "        vertical-align: top;\n",
       "    }\n",
       "\n",
       "    .dataframe thead th {\n",
       "        text-align: right;\n",
       "    }\n",
       "</style>\n",
       "<table border=\"1\" class=\"dataframe\">\n",
       "  <thead>\n",
       "    <tr style=\"text-align: right;\">\n",
       "      <th>tract</th>\n",
       "      <th>000101</th>\n",
       "      <th>000102</th>\n",
       "      <th>000200</th>\n",
       "      <th>000301</th>\n",
       "      <th>000302</th>\n",
       "      <th>000401</th>\n",
       "      <th>000402</th>\n",
       "      <th>000500</th>\n",
       "      <th>000600</th>\n",
       "      <th>000700</th>\n",
       "      <th>...</th>\n",
       "      <th>002023</th>\n",
       "      <th>002024</th>\n",
       "      <th>002025</th>\n",
       "      <th>002026</th>\n",
       "      <th>002027</th>\n",
       "      <th>002028</th>\n",
       "      <th>002100</th>\n",
       "      <th>002200</th>\n",
       "      <th>002300</th>\n",
       "      <th>980100</th>\n",
       "    </tr>\n",
       "  </thead>\n",
       "  <tbody>\n",
       "    <tr>\n",
       "      <th>0</th>\n",
       "      <td>157.0</td>\n",
       "      <td>202.0</td>\n",
       "      <td>113.0</td>\n",
       "      <td>61.0</td>\n",
       "      <td>224.0</td>\n",
       "      <td>148.0</td>\n",
       "      <td>54.0</td>\n",
       "      <td>119.0</td>\n",
       "      <td>254.0</td>\n",
       "      <td>192.0</td>\n",
       "      <td>...</td>\n",
       "      <td>121.0</td>\n",
       "      <td>286.0</td>\n",
       "      <td>291.0</td>\n",
       "      <td>299.0</td>\n",
       "      <td>397.0</td>\n",
       "      <td>548.0</td>\n",
       "      <td>310.0</td>\n",
       "      <td>106.0</td>\n",
       "      <td>47.0</td>\n",
       "      <td>0.0</td>\n",
       "    </tr>\n",
       "  </tbody>\n",
       "</table>\n",
       "<p>1 rows × 60 columns</p>\n",
       "</div>"
      ],
      "text/plain": [
       "tract  000101  000102  000200  000301  000302  000401  000402  000500  000600  \\\n",
       "0       157.0   202.0   113.0    61.0   224.0   148.0    54.0   119.0   254.0   \n",
       "\n",
       "tract  000700  ...  002023  002024  002025  002026  002027  002028  002100  \\\n",
       "0       192.0  ...   121.0   286.0   291.0   299.0   397.0   548.0   310.0   \n",
       "\n",
       "tract  002200  002300  980100  \n",
       "0       106.0    47.0     0.0  \n",
       "\n",
       "[1 rows x 60 columns]"
      ]
     },
     "metadata": {},
     "output_type": "display_data"
    },
    {
     "name": "stdout",
     "output_type": "stream",
     "text": [
      "\t----Predominant Hispanic/Latino Value Counts----\n"
     ]
    },
    {
     "data": {
      "text/plain": [
       "Not Hispanic or Latino:    59\n",
       "Hispanic or Latino:         1\n",
       "dtype: int64"
      ]
     },
     "metadata": {},
     "output_type": "display_data"
    },
    {
     "name": "stdout",
     "output_type": "stream",
     "text": [
      "\n",
      "\t----Predominant Hispanic/Latino Absolute Count ----\n"
     ]
    },
    {
     "data": {
      "text/html": [
       "<div>\n",
       "<style scoped>\n",
       "    .dataframe tbody tr th:only-of-type {\n",
       "        vertical-align: middle;\n",
       "    }\n",
       "\n",
       "    .dataframe tbody tr th {\n",
       "        vertical-align: top;\n",
       "    }\n",
       "\n",
       "    .dataframe thead th {\n",
       "        text-align: right;\n",
       "    }\n",
       "</style>\n",
       "<table border=\"1\" class=\"dataframe\">\n",
       "  <thead>\n",
       "    <tr style=\"text-align: right;\">\n",
       "      <th>tract</th>\n",
       "      <th>000101</th>\n",
       "      <th>000102</th>\n",
       "      <th>000200</th>\n",
       "      <th>000301</th>\n",
       "      <th>000302</th>\n",
       "      <th>000401</th>\n",
       "      <th>000402</th>\n",
       "      <th>000500</th>\n",
       "      <th>000600</th>\n",
       "      <th>000700</th>\n",
       "      <th>...</th>\n",
       "      <th>002023</th>\n",
       "      <th>002024</th>\n",
       "      <th>002025</th>\n",
       "      <th>002026</th>\n",
       "      <th>002027</th>\n",
       "      <th>002028</th>\n",
       "      <th>002100</th>\n",
       "      <th>002200</th>\n",
       "      <th>002300</th>\n",
       "      <th>980100</th>\n",
       "    </tr>\n",
       "  </thead>\n",
       "  <tbody>\n",
       "    <tr>\n",
       "      <th>0</th>\n",
       "      <td>2724.0</td>\n",
       "      <td>3200.0</td>\n",
       "      <td>2433.0</td>\n",
       "      <td>2053.0</td>\n",
       "      <td>3125.0</td>\n",
       "      <td>2700.0</td>\n",
       "      <td>2154.0</td>\n",
       "      <td>4043.0</td>\n",
       "      <td>4466.0</td>\n",
       "      <td>3435.0</td>\n",
       "      <td>...</td>\n",
       "      <td>3102.0</td>\n",
       "      <td>6109.0</td>\n",
       "      <td>6111.0</td>\n",
       "      <td>6204.0</td>\n",
       "      <td>9655.0</td>\n",
       "      <td>9491.0</td>\n",
       "      <td>8720.0</td>\n",
       "      <td>1942.0</td>\n",
       "      <td>1257.0</td>\n",
       "      <td>0.0</td>\n",
       "    </tr>\n",
       "  </tbody>\n",
       "</table>\n",
       "<p>1 rows × 60 columns</p>\n",
       "</div>"
      ],
      "text/plain": [
       "tract  000101  000102  000200  000301  000302  000401  000402  000500  000600  \\\n",
       "0      2724.0  3200.0  2433.0  2053.0  3125.0  2700.0  2154.0  4043.0  4466.0   \n",
       "\n",
       "tract  000700  ...  002023  002024  002025  002026  002027  002028  002100  \\\n",
       "0      3435.0  ...  3102.0  6109.0  6111.0  6204.0  9655.0  9491.0  8720.0   \n",
       "\n",
       "tract  002200  002300  980100  \n",
       "0      1942.0  1257.0     0.0  \n",
       "\n",
       "[1 rows x 60 columns]"
      ]
     },
     "metadata": {},
     "output_type": "display_data"
    }
   ],
   "source": [
    "getMax(census_tracts, 'Race')\n",
    "getMax(census_tracts, 'Education')\n",
    "getMax(census_tracts, 'Family Household Income')\n",
    "getMax(census_tracts, 'Hispanic/Latino')"
   ]
  },
  {
   "cell_type": "code",
   "execution_count": 84,
   "metadata": {
    "execution": {
     "iopub.execute_input": "2021-02-17T03:26:31.147518Z",
     "iopub.status.busy": "2021-02-17T03:26:31.146527Z",
     "iopub.status.idle": "2021-02-17T03:26:46.554779Z",
     "shell.execute_reply": "2021-02-17T03:26:46.550780Z",
     "shell.execute_reply.started": "2021-02-17T03:26:31.146527Z"
    }
   },
   "outputs": [
    {
     "data": {
      "text/plain": [
       "<seaborn.axisgrid.FacetGrid at 0x19947bb8be0>"
      ]
     },
     "execution_count": 84,
     "metadata": {},
     "output_type": "execute_result"
    },
    {
     "data": {
      "image/png": "[encoded data removed]",
      "text/plain": [
       "<Figure size 648x648 with 7 Axes>"
      ]
     },
     "metadata": {
      "needs_background": "light"
     },
     "output_type": "display_data"
    }
   ],
   "source": [
    "g = sns.catplot(x=\"tract\",y=\"value\", col=\"Subtype\", col_wrap=3,\n",
    "                data=getType(census_tracts,'Race'), ci=None, palette='pastel',\n",
    "                kind=\"bar\", height=3, aspect=1)\n",
    "g.set_xticklabels([])\n",
    "g.set_titles(\"{col_name}\")"
   ]
  },
  {
   "cell_type": "code",
   "execution_count": 87,
   "metadata": {
    "execution": {
     "iopub.execute_input": "2021-02-17T03:29:20.852253Z",
     "iopub.status.busy": "2021-02-17T03:29:20.851258Z",
     "iopub.status.idle": "2021-02-17T03:30:05.497983Z",
     "shell.execute_reply": "2021-02-17T03:30:05.492025Z",
     "shell.execute_reply.started": "2021-02-17T03:29:20.852253Z"
    }
   },
   "outputs": [
    {
     "data": {
      "text/plain": [
       "<seaborn.axisgrid.FacetGrid at 0x19947be8670>"
      ]
     },
     "execution_count": 87,
     "metadata": {},
     "output_type": "execute_result"
    },
    {
     "data": {
      "image/png": "[encoded data removed]",
      "text/plain": [
       "<Figure size 648x1728 with 24 Axes>"
      ]
     },
     "metadata": {
      "needs_background": "light"
     },
     "output_type": "display_data"
    }
   ],
   "source": [
    "g = sns.catplot(x=\"tract\",y=\"value\", col=\"Subtype\", col_wrap=3,\n",
    "                data=getType(census_tracts,'Education'), ci=None, palette='pastel',\n",
    "                kind=\"bar\", height=3, aspect=1)\n",
    "g.set_xticklabels([])\n",
    "g.set_titles(\"{col_name}\")"
   ]
  },
  {
   "cell_type": "code",
   "execution_count": 88,
   "metadata": {
    "execution": {
     "iopub.execute_input": "2021-02-17T03:30:39.765953Z",
     "iopub.status.busy": "2021-02-17T03:30:39.765953Z",
     "iopub.status.idle": "2021-02-17T03:31:16.770433Z",
     "shell.execute_reply": "2021-02-17T03:31:16.767447Z",
     "shell.execute_reply.started": "2021-02-17T03:30:39.765953Z"
    }
   },
   "outputs": [
    {
     "data": {
      "text/plain": [
       "<seaborn.axisgrid.FacetGrid at 0x199448d9700>"
      ]
     },
     "execution_count": 88,
     "metadata": {},
     "output_type": "execute_result"
    },
    {
     "data": {
      "image/png": "[encoded data removed]",
      "text/plain": [
       "<Figure size 648x1296 with 16 Axes>"
      ]
     },
     "metadata": {
      "needs_background": "light"
     },
     "output_type": "display_data"
    }
   ],
   "source": [
    "g = sns.catplot(x=\"tract\",y=\"value\", col=\"Subtype\", col_wrap=3,\n",
    "                data=getType(census_tracts,'Family Household Income'), ci=None, palette='pastel',\n",
    "                kind=\"bar\", height=3, aspect=1)\n",
    "g.set_xticklabels([])\n",
    "g.set_titles(\"{col_name}\")"
   ]
  },
  {
   "cell_type": "code",
   "execution_count": 89,
   "metadata": {
    "execution": {
     "iopub.execute_input": "2021-02-17T03:31:51.588879Z",
     "iopub.status.busy": "2021-02-17T03:31:51.587886Z",
     "iopub.status.idle": "2021-02-17T03:31:57.171386Z",
     "shell.execute_reply": "2021-02-17T03:31:57.168227Z",
     "shell.execute_reply.started": "2021-02-17T03:31:51.588879Z"
    }
   },
   "outputs": [
    {
     "data": {
      "text/plain": [
       "<seaborn.axisgrid.FacetGrid at 0x19949c56e20>"
      ]
     },
     "execution_count": 89,
     "metadata": {},
     "output_type": "execute_result"
    },
    {
     "data": {
      "image/png": "[encoded data removed]",
      "text/plain": [
       "<Figure size 432x216 with 2 Axes>"
      ]
     },
     "metadata": {
      "needs_background": "light"
     },
     "output_type": "display_data"
    }
   ],
   "source": [
    "g = sns.catplot(x=\"tract\",y=\"value\", col=\"Subtype\", col_wrap=2,\n",
    "                data=getType(census_tracts,'Hispanic/Latino'), ci=None, palette='pastel',\n",
    "                kind=\"bar\", height=3, aspect=1)\n",
    "g.set_xticklabels([])\n",
    "g.set_titles(\"{col_name}\")"
   ]
  },
  {
   "cell_type": "markdown",
   "metadata": {},
   "source": [
    "### Continue EDA in Tableau"
   ]
  },
  {
   "cell_type": "code",
   "execution_count": 97,
   "metadata": {
    "execution": {
     "iopub.execute_input": "2021-02-17T03:49:46.439568Z",
     "iopub.status.busy": "2021-02-17T03:49:46.438573Z",
     "iopub.status.idle": "2021-02-17T03:49:46.501165Z",
     "shell.execute_reply": "2021-02-17T03:49:46.498176Z",
     "shell.execute_reply.started": "2021-02-17T03:49:46.439568Z"
    }
   },
   "outputs": [],
   "source": [
    "census_tracts.to_csv(\"37_063_census_tracts.csv\")"
   ]
  },
  {
   "cell_type": "markdown",
   "metadata": {},
   "source": [
    "## Tiger 2019 Census Tract Shapefiles For North Carolina"
   ]
  },
  {
   "cell_type": "code",
   "execution_count": 130,
   "metadata": {
    "execution": {
     "iopub.execute_input": "2021-02-17T04:09:07.122171Z",
     "iopub.status.busy": "2021-02-17T04:09:07.121176Z",
     "iopub.status.idle": "2021-02-17T04:09:07.154888Z",
     "shell.execute_reply": "2021-02-17T04:09:07.151906Z",
     "shell.execute_reply.started": "2021-02-17T04:09:07.122171Z"
    }
   },
   "outputs": [],
   "source": [
    "zipfile = \"https://www2.census.gov/geo/tiger/TIGER2019/TRACT/tl_2019_37_tract.zip\"\n",
    "NCcensusTracts  = gp.read_file(zipfile)\n",
    "\n",
    "# County code for Durham \n",
    "durhamCensusTractGeo = NCcensusTracts[NCcensusTracts['COUNTYFP'] =='063']"
   ]
  },
  {
   "cell_type": "markdown",
   "metadata": {},
   "source": [
    "Ensure that the census tracts match from both the ACS Survey and 2019 Census Tract Shapefiles"
   ]
  },
  {
   "cell_type": "code",
   "execution_count": 144,
   "metadata": {
    "execution": {
     "iopub.execute_input": "2021-02-17T04:12:19.101030Z",
     "iopub.status.busy": "2021-02-17T04:12:19.100040Z",
     "iopub.status.idle": "2021-02-17T04:12:19.117919Z",
     "shell.execute_reply": "2021-02-17T04:12:19.113947Z",
     "shell.execute_reply.started": "2021-02-17T04:12:19.101030Z"
    }
   },
   "outputs": [],
   "source": [
    "assert (durhamCensusTractGeo['TRACTCE'].sort_values().values ==\n",
    "        np.sort(census_tracts['tract'].unique())).all(), \"Something went wrong. \\\n",
    "        Census Tracts Don't Match\""
   ]
  },
  {
   "cell_type": "markdown",
   "metadata": {},
   "source": [
    "### Save the shapefiles for the census tracts of interest into a geojson file. This will be used when analyzing in Tableau."
   ]
  },
  {
   "cell_type": "code",
   "execution_count": 146,
   "metadata": {
    "execution": {
     "iopub.execute_input": "2021-02-17T04:16:14.933953Z",
     "iopub.status.busy": "2021-02-17T04:16:14.932962Z",
     "iopub.status.idle": "2021-02-17T04:16:15.791716Z",
     "shell.execute_reply": "2021-02-17T04:16:15.791716Z",
     "shell.execute_reply.started": "2021-02-17T04:16:14.933953Z"
    }
   },
   "outputs": [],
   "source": [
    "durhamCensusTractGeo.to_file(\"37_063_census_tract_shapes.json\", driver=\"GeoJSON\")"
   ]
  },
  {
   "cell_type": "markdown",
   "metadata": {},
   "source": [
    "## Next steps:\n",
    "This is just a starting a point. Since I'm not too familiar with the ACS survey, I'd imagine there might be some variables--unsure about Table ID B15003 located at the start of this notebook--that will serve better for this project. For now, I'd say these are the next steps:\n",
    "1. Identify and retrieve other variables of interest, in particular demographic-related variables\n",
    "2. Condense number of variable where needed (ie. group certain Education attainment levels)\n",
    "3. Perform EDA on the demographic data and iterate (step 1) as needed \n",
    "\n",
    "Somewhere in between the steps, more research is needed in understanding the ACS survey data methods as it'll be helpful to know when exploring the data."
   ]
  },
  {
   "cell_type": "code",
   "execution_count": null,
   "metadata": {},
   "outputs": [],
   "source": []
  }
 ],
 "metadata": {
  "kernelspec": {
   "display_name": "Python 3",
   "language": "python",
   "name": "python3"
  },
  "language_info": {
   "codemirror_mode": {
    "name": "ipython",
    "version": 3
   },
   "file_extension": ".py",
   "mimetype": "text/x-python",
   "name": "python",
   "nbconvert_exporter": "python",
   "pygments_lexer": "ipython3",
   "version": "3.8.5"
  }
 },
 "nbformat": 4,
 "nbformat_minor": 4
}
